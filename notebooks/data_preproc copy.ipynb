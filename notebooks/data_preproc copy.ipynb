{
 "cells": [
  {
   "cell_type": "code",
   "execution_count": 1,
   "metadata": {},
   "outputs": [],
   "source": [
    "import os\n",
    "import json\n",
    "import pandas"
   ]
  },
  {
   "cell_type": "markdown",
   "metadata": {},
   "source": [
    "## Situated QA"
   ]
  },
  {
   "cell_type": "code",
   "execution_count": 2,
   "metadata": {},
   "outputs": [],
   "source": [
    "PATH = '/mnt/hlilabshare/jjunshim/data/'\n",
    "files = (_ for _ in os.listdir(PATH) if 'json' == _.split('.')[-1])\n"
   ]
  },
  {
   "cell_type": "code",
   "execution_count": null,
   "metadata": {},
   "outputs": [],
   "source": [
    "data = []\n",
    "\n",
    "for file in files:\n",
    "    with open(\n",
    "        os.path.join(PATH, file),\n",
    "        'r'\n",
    "    ) as fp:\n",
    "        df = pandas.read_json(fp, lines=True)\n",
    "    df['snap'] = file.split('_')[1]\n",
    "    data.append(df)\n",
    "\n",
    "df = pandas.concat(\n",
    "    data,\n",
    "    axis=0,\n",
    "    ignore_index=True\n",
    ")\n",
    "\n",
    "del data\n",
    "df.info()"
   ]
  },
  {
   "cell_type": "code",
   "execution_count": 4,
   "metadata": {},
   "outputs": [
    {
     "name": "stdout",
     "output_type": "stream",
     "text": [
      "RangeIndex(start=0, stop=10097860, step=1) 70685020 565480292\n"
     ]
    }
   ],
   "source": [
    "print(df.index, df.size, df.memory_usage().sum())\n"
   ]
  },
  {
   "cell_type": "code",
   "execution_count": 5,
   "metadata": {},
   "outputs": [
    {
     "data": {
      "text/html": [
       "<div>\n",
       "<style scoped>\n",
       "    .dataframe tbody tr th:only-of-type {\n",
       "        vertical-align: middle;\n",
       "    }\n",
       "\n",
       "    .dataframe tbody tr th {\n",
       "        vertical-align: top;\n",
       "    }\n",
       "\n",
       "    .dataframe thead th {\n",
       "        text-align: right;\n",
       "    }\n",
       "</style>\n",
       "<table border=\"1\" class=\"dataframe\">\n",
       "  <thead>\n",
       "    <tr style=\"text-align: right;\">\n",
       "      <th></th>\n",
       "      <th>id</th>\n",
       "      <th>timestamp</th>\n",
       "      <th>text</th>\n",
       "      <th>title</th>\n",
       "      <th>infobox</th>\n",
       "      <th>wikitable</th>\n",
       "      <th>snap</th>\n",
       "    </tr>\n",
       "  </thead>\n",
       "  <tbody>\n",
       "    <tr>\n",
       "      <th>4101265</th>\n",
       "      <td>33491790</td>\n",
       "      <td>2021-01-14</td>\n",
       "      <td>the church of st michael in alnham, in the eng...</td>\n",
       "      <td>Church of St Michael, Alnham</td>\n",
       "      <td>infobox church |name = st michael's church, al...</td>\n",
       "      <td></td>\n",
       "      <td>20211220</td>\n",
       "    </tr>\n",
       "    <tr>\n",
       "      <th>9124390</th>\n",
       "      <td>61290903</td>\n",
       "      <td>2023-01-09</td>\n",
       "      <td>staroyantuzovo (; , \"iske yandız\") is a rural ...</td>\n",
       "      <td>Staroyantuzovo</td>\n",
       "      <td></td>\n",
       "      <td></td>\n",
       "      <td>20231220</td>\n",
       "    </tr>\n",
       "    <tr>\n",
       "      <th>9375082</th>\n",
       "      <td>70384279</td>\n",
       "      <td>2023-10-12</td>\n",
       "      <td>kalfou danjere is an album by the haitian band...</td>\n",
       "      <td>Kalfou Danjere</td>\n",
       "      <td></td>\n",
       "      <td></td>\n",
       "      <td>20231220</td>\n",
       "    </tr>\n",
       "    <tr>\n",
       "      <th>1661574</th>\n",
       "      <td>418595</td>\n",
       "      <td>2018-09-04</td>\n",
       "      <td>The Hugo Award for Best Novelette is one of th...</td>\n",
       "      <td>Hugo Award for Best Novelette</td>\n",
       "      <td></td>\n",
       "      <td>{| wikitable 1em auto 1em auto |- !  !  !  !  ...</td>\n",
       "      <td>20181220</td>\n",
       "    </tr>\n",
       "    <tr>\n",
       "      <th>3425126</th>\n",
       "      <td>20173750</td>\n",
       "      <td>2021-12-05</td>\n",
       "      <td>Balado railway station served the villages of ...</td>\n",
       "      <td>Balado railway station</td>\n",
       "      <td>Infobox station \\n name = Balado \\n status = D...</td>\n",
       "      <td></td>\n",
       "      <td>20211220</td>\n",
       "    </tr>\n",
       "  </tbody>\n",
       "</table>\n",
       "</div>"
      ],
      "text/plain": [
       "               id  timestamp  \\\n",
       "4101265  33491790 2021-01-14   \n",
       "9124390  61290903 2023-01-09   \n",
       "9375082  70384279 2023-10-12   \n",
       "1661574    418595 2018-09-04   \n",
       "3425126  20173750 2021-12-05   \n",
       "\n",
       "                                                      text  \\\n",
       "4101265  the church of st michael in alnham, in the eng...   \n",
       "9124390  staroyantuzovo (; , \"iske yandız\") is a rural ...   \n",
       "9375082  kalfou danjere is an album by the haitian band...   \n",
       "1661574  The Hugo Award for Best Novelette is one of th...   \n",
       "3425126  Balado railway station served the villages of ...   \n",
       "\n",
       "                                 title  \\\n",
       "4101265   Church of St Michael, Alnham   \n",
       "9124390                 Staroyantuzovo   \n",
       "9375082                 Kalfou Danjere   \n",
       "1661574  Hugo Award for Best Novelette   \n",
       "3425126         Balado railway station   \n",
       "\n",
       "                                                   infobox  \\\n",
       "4101265  infobox church |name = st michael's church, al...   \n",
       "9124390                                                      \n",
       "9375082                                                      \n",
       "1661574                                                      \n",
       "3425126  Infobox station \\n name = Balado \\n status = D...   \n",
       "\n",
       "                                                 wikitable      snap  \n",
       "4101265                                                     20211220  \n",
       "9124390                                                     20231220  \n",
       "9375082                                                     20231220  \n",
       "1661574  {| wikitable 1em auto 1em auto |- !  !  !  !  ...  20181220  \n",
       "3425126                                                     20211220  "
      ]
     },
     "execution_count": 5,
     "metadata": {},
     "output_type": "execute_result"
    }
   ],
   "source": [
    "df.sample(5)\n"
   ]
  },
  {
   "cell_type": "code",
   "execution_count": 6,
   "metadata": {},
   "outputs": [
    {
     "data": {
      "text/plain": [
       "snap\n",
       "20181220    2807425\n",
       "20211220    3493050\n",
       "20231220    3797385\n",
       "dtype: int64"
      ]
     },
     "execution_count": 6,
     "metadata": {},
     "output_type": "execute_result"
    }
   ],
   "source": [
    "df.groupby('snap').size()\n"
   ]
  },
  {
   "cell_type": "code",
   "execution_count": 9,
   "metadata": {},
   "outputs": [],
   "source": [
    "df['snap'] = pandas.to_datetime(df.snap)\n",
    "\n",
    "df.sort_values(\n",
    "    by=['id', 'snap'],\n",
    "    ascending=True,\n",
    "    inplace=True\n",
    ")"
   ]
  },
  {
   "cell_type": "code",
   "execution_count": 8,
   "metadata": {},
   "outputs": [],
   "source": [
    "df.to_parquet(\n",
    "    os.path.join(PATH, 'situated_qa/situated_qa_cleansed.parquet'),\n",
    "    index=False\n",
    ")"
   ]
  },
  {
   "cell_type": "code",
   "execution_count": 3,
   "metadata": {},
   "outputs": [],
   "source": [
    "df = pandas.read_parquet(os.path.join(PATH, 'situated_qa/situated_qa_cleansed.parquet'))"
   ]
  },
  {
   "cell_type": "code",
   "execution_count": 4,
   "metadata": {},
   "outputs": [
    {
     "name": "stdout",
     "output_type": "stream",
     "text": [
      "<class 'pandas.core.frame.DataFrame'>\n",
      "RangeIndex: 10097860 entries, 0 to 10097859\n",
      "Data columns (total 7 columns):\n",
      " #   Column     Dtype         \n",
      "---  ------     -----         \n",
      " 0   id         int64         \n",
      " 1   timestamp  datetime64[ns]\n",
      " 2   text       object        \n",
      " 3   title      object        \n",
      " 4   infobox    object        \n",
      " 5   wikitable  object        \n",
      " 6   snap       datetime64[ns]\n",
      "dtypes: datetime64[ns](2), int64(1), object(4)\n",
      "memory usage: 539.3+ MB\n"
     ]
    }
   ],
   "source": [
    "df.info()"
   ]
  },
  {
   "cell_type": "code",
   "execution_count": 5,
   "metadata": {},
   "outputs": [],
   "source": [
    "from rapidfuzz import fuzz"
   ]
  },
  {
   "cell_type": "code",
   "execution_count": 6,
   "metadata": {},
   "outputs": [],
   "source": [
    "from itertools import combinations"
   ]
  },
  {
   "cell_type": "code",
   "execution_count": 7,
   "metadata": {},
   "outputs": [],
   "source": [
    "def compare_within_group(group):\n",
    "    docs = group[[\"id\", \"text\"]].values\n",
    "    results = []\n",
    "    for (id, text1), (_, text2) in combinations(docs, 2):\n",
    "        score = fuzz.token_set_ratio(text1, text2)\n",
    "        results.append({\n",
    "            \"group_id\": id,\n",
    "            \"similarity\": score\n",
    "        })\n",
    "    return pandas.DataFrame(results)"
   ]
  },
  {
   "cell_type": "code",
   "execution_count": 8,
   "metadata": {},
   "outputs": [
    {
     "name": "stderr",
     "output_type": "stream",
     "text": [
      "/tmp/ipykernel_2606117/925036676.py:1: DeprecationWarning: DataFrameGroupBy.apply operated on the grouping columns. This behavior is deprecated, and in a future version of pandas the grouping columns will be excluded from the operation. Either pass `include_groups=False` to exclude the groupings or explicitly select the grouping columns after groupby to silence this warning.\n",
      "  similarity_df = df.groupby(\"id\").apply(compare_within_group).reset_index(drop=True)\n"
     ]
    }
   ],
   "source": [
    "similarity_df = df.groupby(\"id\").apply(compare_within_group).reset_index(drop=True)"
   ]
  },
  {
   "cell_type": "code",
   "execution_count": 9,
   "metadata": {},
   "outputs": [],
   "source": [
    "similarity_df.to_json(\n",
    "    'situated_qa_similarity.json',\n",
    "    orient='records',\n",
    "    lines=True\n",
    ")"
   ]
  },
  {
   "cell_type": "code",
   "execution_count": 8,
   "metadata": {},
   "outputs": [
    {
     "data": {
      "text/plain": [
       "97"
      ]
     },
     "execution_count": 8,
     "metadata": {},
     "output_type": "execute_result"
    }
   ],
   "source": [
    "fuzz.ratio(\"this is a test\", \"this is a test!\")\n"
   ]
  },
  {
   "cell_type": "code",
   "execution_count": 6,
   "metadata": {},
   "outputs": [
    {
     "name": "stdout",
     "output_type": "stream",
     "text": [
      "<class 'pandas.core.frame.DataFrame'>\n",
      "Index: 3000 entries, 4113 to 8760558\n",
      "Data columns (total 7 columns):\n",
      " #   Column     Non-Null Count  Dtype         \n",
      "---  ------     --------------  -----         \n",
      " 0   id         3000 non-null   int64         \n",
      " 1   timestamp  3000 non-null   datetime64[ns]\n",
      " 2   text       3000 non-null   object        \n",
      " 3   title      3000 non-null   object        \n",
      " 4   infobox    3000 non-null   object        \n",
      " 5   wikitable  3000 non-null   object        \n",
      " 6   snap       3000 non-null   datetime64[ns]\n",
      "dtypes: datetime64[ns](2), int64(1), object(4)\n",
      "memory usage: 187.5+ KB\n"
     ]
    }
   ],
   "source": [
    "data = df[df.timestamp.dt.year == df.snap.dt.year]\n",
    "temp = data.groupby('id').count()['timestamp'] >= 3\n",
    "temp = temp[temp].sample(1000).index\n",
    "data = df[df['id'].isin(temp)]\n",
    "\n",
    "data.info()"
   ]
  },
  {
   "cell_type": "code",
   "execution_count": 7,
   "metadata": {},
   "outputs": [],
   "source": [
    "data.to_parquet(\n",
    "    os.path.join(PATH, 'situated_qa/situated_qa_sample_id1000.parquet'),\n",
    "    index=False\n",
    ")"
   ]
  },
  {
   "cell_type": "markdown",
   "metadata": {},
   "source": [
    "## Templama"
   ]
  },
  {
   "cell_type": "code",
   "execution_count": 2,
   "metadata": {},
   "outputs": [
    {
     "name": "stdout",
     "output_type": "stream",
     "text": [
      "<class 'pandas.core.frame.DataFrame'>\n",
      "RangeIndex: 100 entries, 0 to 99\n",
      "Data columns (total 19 columns):\n",
      " #   Column             Non-Null Count  Dtype  \n",
      "---  ------             --------------  -----  \n",
      " 0   question           100 non-null    object \n",
      " 1   answer             100 non-null    object \n",
      " 2   title              100 non-null    object \n",
      " 3   section            100 non-null    object \n",
      " 4   caption            100 non-null    object \n",
      " 5   table              100 non-null    object \n",
      " 6   column             100 non-null    object \n",
      " 7   time_col           100 non-null    object \n",
      " 8   id                 100 non-null    int64  \n",
      " 9   pageview           100 non-null    object \n",
      " 10  avg_pageview       100 non-null    float64\n",
      " 11  numerical_density  100 non-null    float64\n",
      " 12  date_density       100 non-null    float64\n",
      " 13  year_density       100 non-null    int64  \n",
      " 14  answer_per_year    100 non-null    float64\n",
      " 15  word_per_answer    100 non-null    float64\n",
      " 16  answer_frequency   100 non-null    float64\n",
      " 17  answer_option_num  100 non-null    int64  \n",
      " 18  answer_set_num     100 non-null    int64  \n",
      "dtypes: float64(6), int64(4), object(9)\n",
      "memory usage: 15.0+ KB\n"
     ]
    }
   ],
   "source": [
    "PATH = '/mnt/hlilabshare/jjunshim/data/temporal-alignment-qa'\n",
    "df = pandas.read_json(os.path.join(PATH, 'test.jsonl'), lines=True, nrows=100)\n",
    "\n",
    "df.info()"
   ]
  },
  {
   "cell_type": "code",
   "execution_count": 3,
   "metadata": {},
   "outputs": [
    {
     "data": {
      "text/html": [
       "<div>\n",
       "<style scoped>\n",
       "    .dataframe tbody tr th:only-of-type {\n",
       "        vertical-align: middle;\n",
       "    }\n",
       "\n",
       "    .dataframe tbody tr th {\n",
       "        vertical-align: top;\n",
       "    }\n",
       "\n",
       "    .dataframe thead th {\n",
       "        text-align: right;\n",
       "    }\n",
       "</style>\n",
       "<table border=\"1\" class=\"dataframe\">\n",
       "  <thead>\n",
       "    <tr style=\"text-align: right;\">\n",
       "      <th></th>\n",
       "      <th>question</th>\n",
       "      <th>answer</th>\n",
       "      <th>title</th>\n",
       "      <th>section</th>\n",
       "      <th>caption</th>\n",
       "      <th>table</th>\n",
       "      <th>column</th>\n",
       "      <th>time_col</th>\n",
       "      <th>id</th>\n",
       "      <th>pageview</th>\n",
       "      <th>avg_pageview</th>\n",
       "      <th>numerical_density</th>\n",
       "      <th>date_density</th>\n",
       "      <th>year_density</th>\n",
       "      <th>answer_per_year</th>\n",
       "      <th>word_per_answer</th>\n",
       "      <th>answer_frequency</th>\n",
       "      <th>answer_option_num</th>\n",
       "      <th>answer_set_num</th>\n",
       "    </tr>\n",
       "  </thead>\n",
       "  <tbody>\n",
       "    <tr>\n",
       "      <th>12</th>\n",
       "      <td>What is the original title of the most recent ...</td>\n",
       "      <td>{'2000': ['Merci pour le chocolat'], '2001': [...</td>\n",
       "      <td>Louis Delluc Prize</td>\n",
       "      <td>Winners, Louis Delluc Prize for Best Film, 201...</td>\n",
       "      <td></td>\n",
       "      <td>Year,Original title,English title,Director(s),...</td>\n",
       "      <td>[Original title]</td>\n",
       "      <td>[Year]</td>\n",
       "      <td>9174</td>\n",
       "      <td>[{'timestamp': '2015070100', 'views': 342}, {'...</td>\n",
       "      <td>299.048544</td>\n",
       "      <td>0.02381</td>\n",
       "      <td>0.0</td>\n",
       "      <td>0</td>\n",
       "      <td>1.083333</td>\n",
       "      <td>3.153846</td>\n",
       "      <td>4.769231</td>\n",
       "      <td>26</td>\n",
       "      <td>24</td>\n",
       "    </tr>\n",
       "  </tbody>\n",
       "</table>\n",
       "</div>"
      ],
      "text/plain": [
       "                                             question  \\\n",
       "12  What is the original title of the most recent ...   \n",
       "\n",
       "                                               answer               title  \\\n",
       "12  {'2000': ['Merci pour le chocolat'], '2001': [...  Louis Delluc Prize   \n",
       "\n",
       "                                              section caption  \\\n",
       "12  Winners, Louis Delluc Prize for Best Film, 201...           \n",
       "\n",
       "                                                table            column  \\\n",
       "12  Year,Original title,English title,Director(s),...  [Original title]   \n",
       "\n",
       "   time_col    id                                           pageview  \\\n",
       "12   [Year]  9174  [{'timestamp': '2015070100', 'views': 342}, {'...   \n",
       "\n",
       "    avg_pageview  numerical_density  date_density  year_density  \\\n",
       "12    299.048544            0.02381           0.0             0   \n",
       "\n",
       "    answer_per_year  word_per_answer  answer_frequency  answer_option_num  \\\n",
       "12         1.083333         3.153846          4.769231                 26   \n",
       "\n",
       "    answer_set_num  \n",
       "12              24  "
      ]
     },
     "execution_count": 3,
     "metadata": {},
     "output_type": "execute_result"
    }
   ],
   "source": [
    "df.sample()"
   ]
  },
  {
   "cell_type": "code",
   "execution_count": 16,
   "metadata": {},
   "outputs": [],
   "source": [
    "i = 15\n",
    "data = [\n",
    "    {\n",
    "        'id': df.iloc[i].id,\n",
    "        'year': year,\n",
    "        'text': f\"In {year}, {df.iloc[i].question} {', '.join(answer)}\"\n",
    "    } for year, answer in df.iloc[i].answer.items()\n",
    "]\n",
    "pandas.DataFrame(data).to_parquet(\n",
    "    os.path.join(PATH, 'sample.parquet'),\n",
    "    index=False\n",
    ")"
   ]
  },
  {
   "cell_type": "code",
   "execution_count": 12,
   "metadata": {},
   "outputs": [
    {
     "data": {
      "text/plain": [
       "\"Who is the leading scorer for the Eastern Michigan Eagles men's basketball team this season?\""
      ]
     },
     "execution_count": 12,
     "metadata": {},
     "output_type": "execute_result"
    }
   ],
   "source": [
    "i = 15\n",
    "df.iloc[i].question"
   ]
  },
  {
   "cell_type": "code",
   "execution_count": 13,
   "metadata": {},
   "outputs": [
    {
     "data": {
      "text/plain": [
       "{'2000': ['Melvin Hicks', 'Calvin Warner'],\n",
       " '2001': ['Melvin Hicks', 'Ricky Cottrill'],\n",
       " '2002': ['Ryan Prillman', 'Ricky Cottrill'],\n",
       " '2003': ['Ryan Prillman', 'Markus Austin'],\n",
       " '2004': ['Markus Austin'],\n",
       " '2005': ['Markus Austin', 'John Bowler'],\n",
       " '2006': ['John Bowler', 'Jesse Bunkley'],\n",
       " '2007': ['Carlos Medlock', 'Jesse Bunkley'],\n",
       " '2008': ['Brandon Bowdry', 'Carlos Medlock'],\n",
       " '2009': ['Brandon Bowdry', 'Carlos Medlock'],\n",
       " '2010': ['Brandon Bowdry', 'Carlos Medlock'],\n",
       " '2011': ['Darrell Lampley', 'Brandon Bowdry'],\n",
       " '2012': ['Darrell Lampley', 'Derek Thompson'],\n",
       " '2013': ['Karrington Ward', 'Derek Thompson'],\n",
       " '2014': ['Raven Lee', 'Karrington Ward'],\n",
       " '2015': ['Raven Lee'],\n",
       " '2016': ['Raven Lee', 'Ray Lee'],\n",
       " '2017': ['Ray Lee', 'Elijah Minnie'],\n",
       " '2018': ['Elijah Minnie', 'Paul Jackson'],\n",
       " '2019': ['Ty Groce', 'Paul Jackson'],\n",
       " '2020': ['Ty Groce'],\n",
       " '2021': ['Ty Groce', 'Noah Farrakhan'],\n",
       " '2022': ['Emoni Bates', 'Noah Farrakhan'],\n",
       " '2023': ['Emoni Bates']}"
      ]
     },
     "execution_count": 13,
     "metadata": {},
     "output_type": "execute_result"
    }
   ],
   "source": [
    "df.iloc[i].answer"
   ]
  },
  {
   "cell_type": "code",
   "execution_count": 14,
   "metadata": {},
   "outputs": [
    {
     "data": {
      "text/plain": [
       "{'id': np.int64(18609),\n",
       " 'year': '2000',\n",
       " 'text': \"In 2000, Who is the leading scorer for the Eastern Michigan Eagles men's basketball team this season? Melvin HicksCalvin Warner\"}"
      ]
     },
     "execution_count": 14,
     "metadata": {},
     "output_type": "execute_result"
    }
   ],
   "source": [
    "[\n",
    "    {\n",
    "        'id': df.iloc[i].id,\n",
    "        'year': year,\n",
    "        'text': f\"In {year}, {df.iloc[i].question} {''.join(answer)}\"\n",
    "    } for year, answer in df.iloc[i].answer.items()\n",
    "][0]"
   ]
  },
  {
   "cell_type": "code",
   "execution_count": null,
   "metadata": {},
   "outputs": [],
   "source": []
  }
 ],
 "metadata": {
  "kernelspec": {
   "display_name": "nlp",
   "language": "python",
   "name": "python3"
  },
  "language_info": {
   "codemirror_mode": {
    "name": "ipython",
    "version": 3
   },
   "file_extension": ".py",
   "mimetype": "text/x-python",
   "name": "python",
   "nbconvert_exporter": "python",
   "pygments_lexer": "ipython3",
   "version": "3.12.9"
  }
 },
 "nbformat": 4,
 "nbformat_minor": 4
}
