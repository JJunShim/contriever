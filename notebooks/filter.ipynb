{
 "cells": [
  {
   "cell_type": "code",
   "execution_count": 1,
   "id": "9125709a-19ad-4995-a791-1364eb429852",
   "metadata": {},
   "outputs": [],
   "source": [
    "import os\n",
    "import pandas"
   ]
  },
  {
   "cell_type": "markdown",
   "id": "3f9037b4-302e-44ac-b11c-0623678d3384",
   "metadata": {},
   "source": [
    "## Convert filter"
   ]
  },
  {
   "cell_type": "code",
   "execution_count": 2,
   "id": "388ecda9-f4f9-4ad1-be17-3580b95151f7",
   "metadata": {},
   "outputs": [],
   "source": [
    "BASE = \"../beir\"\n",
    "DIRS = [os.path.join(BASE, path) for path in os.listdir(BASE)]\n",
    "\n",
    "for d in DIRS:\n",
    "    NAME = os.path.basename(d).split(\".\")\n",
    "    if NAME[-1] not in [\"json\", \"jsonl\"]:\n",
    "        continue\n",
    "    df = pandas.read_json(d, lines=NAME[-1] == \"jsonl\")\n",
    "    df.iloc[:, 1:].to_csv(\n",
    "        f\"../beir/{NAME[0]}.csv\",\n",
    "        index=False,\n",
    "        encoding=\"utf-8\"\n",
    "    )"
   ]
  },
  {
   "cell_type": "code",
   "execution_count": 17,
   "id": "15d63849-bf11-4796-a367-f90b0d81d246",
   "metadata": {},
   "outputs": [
    {
     "name": "stdout",
     "output_type": "stream",
     "text": [
      "<class 'pandas.core.frame.DataFrame'>\n",
      "RangeIndex: 134619 entries, 0 to 134618\n",
      "Data columns (total 2 columns):\n",
      " #   Column  Non-Null Count   Dtype\n",
      "---  ------  --------------   -----\n",
      " 0   id      134619 non-null  int64\n",
      " 1   label   134619 non-null  bool \n",
      "dtypes: bool(1), int64(1)\n",
      "memory usage: 1.2 MB\n"
     ]
    }
   ],
   "source": [
    "NAME = os.path.basename(DIRS[22]).split(\".\")\n",
    "df = pandas.read_json(DIRS[22], lines=True)\n",
    "df.info()"
   ]
  },
  {
   "cell_type": "code",
   "execution_count": null,
   "id": "b389e8a2-a9ab-4fc4-9086-1a071f8aa37d",
   "metadata": {},
   "outputs": [],
   "source": [
    "pandas.concat(\n",
    "    [\n",
    "        df.iloc[:, 1],\n",
    "        pandas.DataFrame([False] * (509962 - len(df)))\n",
    "    ], ignore_index=True\n",
    ").to_csv(\n",
    "    f\"../beir/{NAME[0]}.csv\",\n",
    "    index=False,\n",
    "    encoding=\"utf-8\"\n",
    ")"
   ]
  },
  {
   "cell_type": "markdown",
   "id": "a87a529c-02e1-49ca-93f7-9232696c494d",
   "metadata": {},
   "source": [
    "## Filtering"
   ]
  },
  {
   "cell_type": "code",
   "execution_count": 3,
   "id": "cfc968d6-7a2a-45da-a40a-612656a917b5",
   "metadata": {},
   "outputs": [],
   "source": [
    "BASE = \"../beir\"\n",
    "DIRS = {os.path.basename(path).split(\".\")[0]: os.path.join(BASE, path) for path in os.listdir(BASE) if os.path.basename(path).split(\".\")[-1] == \"csv\"}"
   ]
  },
  {
   "cell_type": "code",
   "execution_count": 4,
   "id": "0d91b547-135a-48e8-866e-c9ce7912eaf8",
   "metadata": {},
   "outputs": [
    {
     "data": {
      "application/vnd.microsoft.datawrangler.viewer.v0+json": {
       "columns": [
        {
         "name": "index",
         "rawType": "int64",
         "type": "integer"
        },
        {
         "name": "name",
         "rawType": "object",
         "type": "string"
        },
        {
         "name": "length",
         "rawType": "int64",
         "type": "integer"
        },
        {
         "name": "ratio",
         "rawType": "float64",
         "type": "float"
        }
       ],
       "conversionMethod": "pd.DataFrame",
       "ref": "9fd08f32-e115-47e4-999f-da40622fe2a1",
       "rows": [
        [
         "0",
         "hotpotqa",
         "97852",
         "39.79070432898663"
        ],
        [
         "4",
         "fever",
         "123142",
         "18.2553474850173"
        ],
        [
         "3",
         "climate-fever",
         "1535",
         "9.315960912052116"
        ],
        [
         "2",
         "msmarco",
         "509962",
         "7.602527247128217"
        ],
        [
         "13",
         "arguana",
         "1406",
         "4.409672830725462"
        ],
        [
         "10",
         "quora",
         "15000",
         "2.18"
        ],
        [
         "1",
         "fiqa",
         "6648",
         "1.9253910950661854"
        ],
        [
         "6",
         "nq",
         "3452",
         "1.8539976825028968"
        ],
        [
         "9",
         "dbpedia-entity",
         "467",
         "1.284796573875803"
        ],
        [
         "12",
         "scifact",
         "1109",
         "0.2705139765554554"
        ],
        [
         "7",
         "scidocs",
         "1000",
         "0.1"
        ],
        [
         "8",
         "nfcorpus",
         "3237",
         "0.06178560395427865"
        ],
        [
         "5",
         "webis-touche2020",
         "49",
         "0.0"
        ],
        [
         "11",
         "trec-covid",
         "50",
         "0.0"
        ]
       ],
       "shape": {
        "columns": 3,
        "rows": 14
       }
      },
      "text/html": [
       "<div>\n",
       "<style scoped>\n",
       "    .dataframe tbody tr th:only-of-type {\n",
       "        vertical-align: middle;\n",
       "    }\n",
       "\n",
       "    .dataframe tbody tr th {\n",
       "        vertical-align: top;\n",
       "    }\n",
       "\n",
       "    .dataframe thead th {\n",
       "        text-align: right;\n",
       "    }\n",
       "</style>\n",
       "<table border=\"1\" class=\"dataframe\">\n",
       "  <thead>\n",
       "    <tr style=\"text-align: right;\">\n",
       "      <th></th>\n",
       "      <th>name</th>\n",
       "      <th>length</th>\n",
       "      <th>ratio</th>\n",
       "    </tr>\n",
       "  </thead>\n",
       "  <tbody>\n",
       "    <tr>\n",
       "      <th>0</th>\n",
       "      <td>hotpotqa</td>\n",
       "      <td>97852</td>\n",
       "      <td>39.790704</td>\n",
       "    </tr>\n",
       "    <tr>\n",
       "      <th>4</th>\n",
       "      <td>fever</td>\n",
       "      <td>123142</td>\n",
       "      <td>18.255347</td>\n",
       "    </tr>\n",
       "    <tr>\n",
       "      <th>3</th>\n",
       "      <td>climate-fever</td>\n",
       "      <td>1535</td>\n",
       "      <td>9.315961</td>\n",
       "    </tr>\n",
       "    <tr>\n",
       "      <th>2</th>\n",
       "      <td>msmarco</td>\n",
       "      <td>509962</td>\n",
       "      <td>7.602527</td>\n",
       "    </tr>\n",
       "    <tr>\n",
       "      <th>13</th>\n",
       "      <td>arguana</td>\n",
       "      <td>1406</td>\n",
       "      <td>4.409673</td>\n",
       "    </tr>\n",
       "    <tr>\n",
       "      <th>10</th>\n",
       "      <td>quora</td>\n",
       "      <td>15000</td>\n",
       "      <td>2.180000</td>\n",
       "    </tr>\n",
       "    <tr>\n",
       "      <th>1</th>\n",
       "      <td>fiqa</td>\n",
       "      <td>6648</td>\n",
       "      <td>1.925391</td>\n",
       "    </tr>\n",
       "    <tr>\n",
       "      <th>6</th>\n",
       "      <td>nq</td>\n",
       "      <td>3452</td>\n",
       "      <td>1.853998</td>\n",
       "    </tr>\n",
       "    <tr>\n",
       "      <th>9</th>\n",
       "      <td>dbpedia-entity</td>\n",
       "      <td>467</td>\n",
       "      <td>1.284797</td>\n",
       "    </tr>\n",
       "    <tr>\n",
       "      <th>12</th>\n",
       "      <td>scifact</td>\n",
       "      <td>1109</td>\n",
       "      <td>0.270514</td>\n",
       "    </tr>\n",
       "    <tr>\n",
       "      <th>7</th>\n",
       "      <td>scidocs</td>\n",
       "      <td>1000</td>\n",
       "      <td>0.100000</td>\n",
       "    </tr>\n",
       "    <tr>\n",
       "      <th>8</th>\n",
       "      <td>nfcorpus</td>\n",
       "      <td>3237</td>\n",
       "      <td>0.061786</td>\n",
       "    </tr>\n",
       "    <tr>\n",
       "      <th>5</th>\n",
       "      <td>webis-touche2020</td>\n",
       "      <td>49</td>\n",
       "      <td>0.000000</td>\n",
       "    </tr>\n",
       "    <tr>\n",
       "      <th>11</th>\n",
       "      <td>trec-covid</td>\n",
       "      <td>50</td>\n",
       "      <td>0.000000</td>\n",
       "    </tr>\n",
       "  </tbody>\n",
       "</table>\n",
       "</div>"
      ],
      "text/plain": [
       "                name  length      ratio\n",
       "0           hotpotqa   97852  39.790704\n",
       "4              fever  123142  18.255347\n",
       "3      climate-fever    1535   9.315961\n",
       "2            msmarco  509962   7.602527\n",
       "13           arguana    1406   4.409673\n",
       "10             quora   15000   2.180000\n",
       "1               fiqa    6648   1.925391\n",
       "6                 nq    3452   1.853998\n",
       "9     dbpedia-entity     467   1.284797\n",
       "12           scifact    1109   0.270514\n",
       "7            scidocs    1000   0.100000\n",
       "8           nfcorpus    3237   0.061786\n",
       "5   webis-touche2020      49   0.000000\n",
       "11        trec-covid      50   0.000000"
      ]
     },
     "execution_count": 4,
     "metadata": {},
     "output_type": "execute_result"
    }
   ],
   "source": [
    "dist = []\n",
    "for NAME in DIRS.keys():\n",
    "    df_filter = pandas.read_csv(DIRS[NAME])\n",
    "    l = len(df_filter)\n",
    "    ratio = df_filter.values.sum() / l\n",
    "    dist.append({\n",
    "        \"name\": NAME,\n",
    "        \"length\": l,\n",
    "        \"ratio\": float(ratio) * 100\n",
    "    })\n",
    "df = pandas.DataFrame(dist)\n",
    "\n",
    "df.sort_values(\"ratio\", ascending=False)"
   ]
  },
  {
   "cell_type": "code",
   "execution_count": 8,
   "id": "2a81403b-10ad-4d2c-aed5-69b00f72943c",
   "metadata": {},
   "outputs": [],
   "source": [
    "BASE = \"/mnt/hlilabshare/jjunshim/data/beir\""
   ]
  },
  {
   "cell_type": "code",
   "execution_count": 31,
   "id": "18109ed8-58f0-4a04-902f-95974a57a01c",
   "metadata": {},
   "outputs": [
    {
     "name": "stdout",
     "output_type": "stream",
     "text": [
      "<class 'pandas.core.frame.DataFrame'>\n",
      "RangeIndex: 509962 entries, 0 to 509961\n",
      "Data columns (total 1 columns):\n",
      " #   Column  Non-Null Count   Dtype\n",
      "---  ------  --------------   -----\n",
      " 0   label   509962 non-null  bool \n",
      "dtypes: bool(1)\n",
      "memory usage: 498.1 KB\n"
     ]
    }
   ],
   "source": [
    "NAME = 'msmarco'\n",
    "df_filter = pandas.read_csv(DIRS[NAME])\n",
    "\n",
    "df_filter.info()"
   ]
  },
  {
   "cell_type": "code",
   "execution_count": 32,
   "id": "a84a0d9c-3380-4f1d-8038-3b3ec9d565a5",
   "metadata": {},
   "outputs": [
    {
     "name": "stdout",
     "output_type": "stream",
     "text": [
      "<class 'pandas.core.frame.DataFrame'>\n",
      "Index: 38770 entries, 0 to 509902\n",
      "Data columns (total 3 columns):\n",
      " #   Column    Non-Null Count  Dtype \n",
      "---  ------    --------------  ----- \n",
      " 0   _id       38770 non-null  int64 \n",
      " 1   text      38770 non-null  object\n",
      " 2   metadata  38770 non-null  object\n",
      "dtypes: int64(1), object(2)\n",
      "memory usage: 1.2+ MB\n"
     ]
    }
   ],
   "source": [
    "df = pandas.read_json(os.path.join(BASE, NAME, \"queries.jsonl\"), lines=True)\n",
    "df_temp = df[df_filter.values]\n",
    "\n",
    "df_temp.info()"
   ]
  },
  {
   "cell_type": "code",
   "execution_count": 33,
   "id": "2df8820b-326e-482b-9e1c-d19463592896",
   "metadata": {},
   "outputs": [
    {
     "data": {
      "application/vnd.microsoft.datawrangler.viewer.v0+json": {
       "columns": [
        {
         "name": "index",
         "rawType": "int64",
         "type": "integer"
        },
        {
         "name": "_id",
         "rawType": "int64",
         "type": "integer"
        },
        {
         "name": "text",
         "rawType": "object",
         "type": "string"
        },
        {
         "name": "metadata",
         "rawType": "object",
         "type": "unknown"
        }
       ],
       "conversionMethod": "pd.DataFrame",
       "ref": "70f773f1-9ec7-4f42-9d94-89932198be8a",
       "rows": [
        [
         "390494",
         "1168064",
         "weather in breckenridge colorado",
         "{}"
        ],
        [
         "505410",
         "1097894",
         "how long lsd last in urine",
         "{}"
        ],
        [
         "358149",
         "941584",
         "when did the first leprechaun movie come out",
         "{}"
        ],
        [
         "161256",
         "946263",
         "when does cvs pharmacy open in carlisle",
         "{}"
        ],
        [
         "402036",
         "937375",
         "when did automatic transmissions become the standard",
         "{}"
        ],
        [
         "508536",
         "953351",
         "when is the release of wonder",
         "{}"
        ],
        [
         "399073",
         "920353",
         "what was the first event of the civil war",
         "{}"
        ],
        [
         "461922",
         "394540",
         "in what year did the zip code system start",
         "{}"
        ],
        [
         "399110",
         "942008",
         "when did the new zealand flag come into being",
         "{}"
        ],
        [
         "421841",
         "448121",
         "meaning of last name taft",
         "{}"
        ]
       ],
       "shape": {
        "columns": 3,
        "rows": 10
       }
      },
      "text/html": [
       "<div>\n",
       "<style scoped>\n",
       "    .dataframe tbody tr th:only-of-type {\n",
       "        vertical-align: middle;\n",
       "    }\n",
       "\n",
       "    .dataframe tbody tr th {\n",
       "        vertical-align: top;\n",
       "    }\n",
       "\n",
       "    .dataframe thead th {\n",
       "        text-align: right;\n",
       "    }\n",
       "</style>\n",
       "<table border=\"1\" class=\"dataframe\">\n",
       "  <thead>\n",
       "    <tr style=\"text-align: right;\">\n",
       "      <th></th>\n",
       "      <th>_id</th>\n",
       "      <th>text</th>\n",
       "      <th>metadata</th>\n",
       "    </tr>\n",
       "  </thead>\n",
       "  <tbody>\n",
       "    <tr>\n",
       "      <th>390494</th>\n",
       "      <td>1168064</td>\n",
       "      <td>weather in breckenridge colorado</td>\n",
       "      <td>{}</td>\n",
       "    </tr>\n",
       "    <tr>\n",
       "      <th>505410</th>\n",
       "      <td>1097894</td>\n",
       "      <td>how long lsd last in urine</td>\n",
       "      <td>{}</td>\n",
       "    </tr>\n",
       "    <tr>\n",
       "      <th>358149</th>\n",
       "      <td>941584</td>\n",
       "      <td>when did the first leprechaun movie come out</td>\n",
       "      <td>{}</td>\n",
       "    </tr>\n",
       "    <tr>\n",
       "      <th>161256</th>\n",
       "      <td>946263</td>\n",
       "      <td>when does cvs pharmacy open in carlisle</td>\n",
       "      <td>{}</td>\n",
       "    </tr>\n",
       "    <tr>\n",
       "      <th>402036</th>\n",
       "      <td>937375</td>\n",
       "      <td>when did automatic transmissions become the st...</td>\n",
       "      <td>{}</td>\n",
       "    </tr>\n",
       "    <tr>\n",
       "      <th>508536</th>\n",
       "      <td>953351</td>\n",
       "      <td>when is the release of wonder</td>\n",
       "      <td>{}</td>\n",
       "    </tr>\n",
       "    <tr>\n",
       "      <th>399073</th>\n",
       "      <td>920353</td>\n",
       "      <td>what was the first event of the civil war</td>\n",
       "      <td>{}</td>\n",
       "    </tr>\n",
       "    <tr>\n",
       "      <th>461922</th>\n",
       "      <td>394540</td>\n",
       "      <td>in what year did the zip code system start</td>\n",
       "      <td>{}</td>\n",
       "    </tr>\n",
       "    <tr>\n",
       "      <th>399110</th>\n",
       "      <td>942008</td>\n",
       "      <td>when did the new zealand flag come into being</td>\n",
       "      <td>{}</td>\n",
       "    </tr>\n",
       "    <tr>\n",
       "      <th>421841</th>\n",
       "      <td>448121</td>\n",
       "      <td>meaning of last name taft</td>\n",
       "      <td>{}</td>\n",
       "    </tr>\n",
       "  </tbody>\n",
       "</table>\n",
       "</div>"
      ],
      "text/plain": [
       "            _id                                               text metadata\n",
       "390494  1168064                   weather in breckenridge colorado       {}\n",
       "505410  1097894                         how long lsd last in urine       {}\n",
       "358149   941584       when did the first leprechaun movie come out       {}\n",
       "161256   946263            when does cvs pharmacy open in carlisle       {}\n",
       "402036   937375  when did automatic transmissions become the st...       {}\n",
       "508536   953351                      when is the release of wonder       {}\n",
       "399073   920353          what was the first event of the civil war       {}\n",
       "461922   394540         in what year did the zip code system start       {}\n",
       "399110   942008      when did the new zealand flag come into being       {}\n",
       "421841   448121                          meaning of last name taft       {}"
      ]
     },
     "execution_count": 33,
     "metadata": {},
     "output_type": "execute_result"
    }
   ],
   "source": [
    "a = df_temp.sample(10)\n",
    "\n",
    "a"
   ]
  },
  {
   "cell_type": "code",
   "execution_count": 40,
   "id": "9d690e1a-e668-426b-b27c-d39a243c7eb2",
   "metadata": {},
   "outputs": [
    {
     "data": {
      "text/plain": [
       "_id                                       512836\n",
       "text        temperature sorrento italy september\n",
       "metadata                                      {}\n",
       "Name: 100, dtype: object"
      ]
     },
     "execution_count": 40,
     "metadata": {},
     "output_type": "execute_result"
    }
   ],
   "source": [
    "i = 7\n",
    "\n",
    "df_temp.iloc[i]"
   ]
  },
  {
   "cell_type": "code",
   "execution_count": 41,
   "id": "181b97ca-8900-4533-bcc9-0c4cc063db37",
   "metadata": {},
   "outputs": [
    {
     "name": "stdout",
     "output_type": "stream",
     "text": [
      "{}\n",
      "temperature sorrento italy september\n"
     ]
    }
   ],
   "source": [
    "print(df_temp.metadata.values[i], df_temp.text.values[i], sep=\"\\n\")"
   ]
  },
  {
   "cell_type": "code",
   "execution_count": null,
   "id": "4665192c-d61a-4a54-a126-fd21621741fa",
   "metadata": {},
   "outputs": [],
   "source": []
  }
 ],
 "metadata": {
  "kernelspec": {
   "display_name": "nlp",
   "language": "python",
   "name": "nlp"
  },
  "language_info": {
   "codemirror_mode": {
    "name": "ipython",
    "version": 3
   },
   "file_extension": ".py",
   "mimetype": "text/x-python",
   "name": "python",
   "nbconvert_exporter": "python",
   "pygments_lexer": "ipython3",
   "version": "3.12.9"
  }
 },
 "nbformat": 4,
 "nbformat_minor": 5
}
