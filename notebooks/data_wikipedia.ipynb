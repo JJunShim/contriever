{
 "cells": [
  {
   "cell_type": "code",
   "execution_count": 2,
   "id": "7995003d-a8f3-4624-ad29-87fd63ebf5ae",
   "metadata": {},
   "outputs": [],
   "source": [
    "import os\n",
    "import pandas\n",
    "import polars\n",
    "\n",
    "from thefuzz import fuzz"
   ]
  },
  {
   "cell_type": "code",
   "execution_count": 3,
   "id": "93e414f6-bb61-4325-8f36-a019eeb80691",
   "metadata": {},
   "outputs": [
    {
     "data": {
      "text/plain": [
       "dict_keys(['20181220_20211220_20231220_all_diff_rm_test_doc_finetuning_data_p25_target_trimmed_all_info_20231220.jsonl', '20181220_20211220_20231220_all_diff_rm_test_doc_finetuning_data_p25_target_trimmed_all_info_20181220.jsonl', '20181220_20211220_20231220_all_diff_rm_test_doc_finetuning_data_p25_target_trimmed_all_info_20211220.jsonl'])"
      ]
     },
     "execution_count": 3,
     "metadata": {},
     "output_type": "execute_result"
    }
   ],
   "source": [
    "BASE = \"/mnt/hlilabshare/khyunjin1993/tpour/\"\n",
    "# FILES = [_ for _ in os.listdir(BASE) if _.split(\".\")[-1] in [\"json\", \"jsonl\"]]\n",
    "FILES = [_ for _ in os.listdir(BASE) if \"all_info\" in _]\n",
    "\n",
    "dfs = {f: polars.scan_ndjson(os.path.join(BASE, f)) for f in FILES}\n",
    "\n",
    "dfs.keys()"
   ]
  },
  {
   "cell_type": "code",
   "execution_count": null,
   "id": "0d3d8958-2e66-46fc-8574-7cf2e920af76",
   "metadata": {},
   "outputs": [],
   "source": [
    "# df = pandas.read_json(PATH, lines=True)"
   ]
  },
  {
   "cell_type": "code",
   "execution_count": 4,
   "id": "4c8c9167-707c-4b75-9045-2178f5c3039e",
   "metadata": {},
   "outputs": [],
   "source": [
    "i = 1000\n",
    "df = dfs[list(dfs.keys())[1]]\n",
    "df = df.collect()\n",
    "# temp = df.slice(i-1000, i).collect()\n",
    "\n",
    "# temp.columns"
   ]
  },
  {
   "cell_type": "code",
   "execution_count": 35,
   "id": "0a539689-983a-4411-9b66-a7af69e361d3",
   "metadata": {},
   "outputs": [
    {
     "data": {
      "text/html": [
       "<div><style>\n",
       ".dataframe > thead > tr,\n",
       ".dataframe > tbody > tr {\n",
       "  text-align: right;\n",
       "  white-space: pre-wrap;\n",
       "}\n",
       "</style>\n",
       "<small>shape: (206_025, 2)</small><table border=\"1\" class=\"dataframe\"><thead><tr><th>q_id</th><th>len</th></tr><tr><td>str</td><td>u32</td></tr></thead><tbody><tr><td>&quot;13921998&quot;</td><td>1</td></tr><tr><td>&quot;11693370&quot;</td><td>1</td></tr><tr><td>&quot;10275800&quot;</td><td>1</td></tr><tr><td>&quot;15291375&quot;</td><td>1</td></tr><tr><td>&quot;15473493&quot;</td><td>1</td></tr><tr><td>&hellip;</td><td>&hellip;</td></tr><tr><td>&quot;1308994&quot;</td><td>149</td></tr><tr><td>&quot;12649182&quot;</td><td>151</td></tr><tr><td>&quot;12686&quot;</td><td>154</td></tr><tr><td>&quot;11153273&quot;</td><td>154</td></tr><tr><td>&quot;10398449&quot;</td><td>156</td></tr></tbody></table></div>"
      ],
      "text/plain": [
       "shape: (206_025, 2)\n",
       "┌──────────┬─────┐\n",
       "│ q_id     ┆ len │\n",
       "│ ---      ┆ --- │\n",
       "│ str      ┆ u32 │\n",
       "╞══════════╪═════╡\n",
       "│ 13921998 ┆ 1   │\n",
       "│ 11693370 ┆ 1   │\n",
       "│ 10275800 ┆ 1   │\n",
       "│ 15291375 ┆ 1   │\n",
       "│ 15473493 ┆ 1   │\n",
       "│ …        ┆ …   │\n",
       "│ 1308994  ┆ 149 │\n",
       "│ 12649182 ┆ 151 │\n",
       "│ 12686    ┆ 154 │\n",
       "│ 11153273 ┆ 154 │\n",
       "│ 10398449 ┆ 156 │\n",
       "└──────────┴─────┘"
      ]
     },
     "execution_count": 35,
     "metadata": {},
     "output_type": "execute_result"
    }
   ],
   "source": [
    "df.group_by(\"q_id\").len().sort(\"len\")"
   ]
  },
  {
   "cell_type": "code",
   "execution_count": 10,
   "id": "df27372a-9e24-4d7b-b3f7-4e7c59ac7d26",
   "metadata": {},
   "outputs": [
    {
     "data": {
      "text/html": [
       "<div><style>\n",
       ".dataframe > thead > tr,\n",
       ".dataframe > tbody > tr {\n",
       "  text-align: right;\n",
       "  white-space: pre-wrap;\n",
       "}\n",
       "</style>\n",
       "<small>shape: (0, 6)</small><table border=\"1\" class=\"dataframe\"><thead><tr><th>q_id</th><th>q_title</th><th>q_timestamp</th><th>question</th><th>positive_ctxs</th><th>weak_positive_ctxs</th></tr><tr><td>str</td><td>str</td><td>str</td><td>str</td><td>list[struct[5]]</td><td>list[struct[5]]</td></tr></thead><tbody></tbody></table></div>"
      ],
      "text/plain": [
       "shape: (0, 6)\n",
       "┌──────┬─────────┬─────────────┬──────────┬─────────────────┬────────────────────┐\n",
       "│ q_id ┆ q_title ┆ q_timestamp ┆ question ┆ positive_ctxs   ┆ weak_positive_ctxs │\n",
       "│ ---  ┆ ---     ┆ ---         ┆ ---      ┆ ---             ┆ ---                │\n",
       "│ str  ┆ str     ┆ str         ┆ str      ┆ list[struct[5]] ┆ list[struct[5]]    │\n",
       "╞══════╪═════════╪═════════════╪══════════╪═════════════════╪════════════════════╡\n",
       "└──────┴─────────┴─────────────┴──────────┴─────────────────┴────────────────────┘"
      ]
     },
     "execution_count": 10,
     "metadata": {},
     "output_type": "execute_result"
    }
   ],
   "source": [
    "temp = df.filter(polars.col(\"q_id\") == \"10059591\")\n",
    "\n",
    "temp"
   ]
  },
  {
   "cell_type": "code",
   "execution_count": 10,
   "id": "fb887089-ee3c-4842-85e1-86acc7aadd64",
   "metadata": {},
   "outputs": [
    {
     "data": {
      "text/plain": [
       "1.1122345803842266"
      ]
     },
     "execution_count": 10,
     "metadata": {},
     "output_type": "execute_result"
    }
   ],
   "source": [
    "1.1 / 98.9 * 100"
   ]
  },
  {
   "cell_type": "code",
   "execution_count": 4,
   "id": "4c036336-ea4d-4484-b10e-8f4f379c618b",
   "metadata": {},
   "outputs": [
    {
     "data": {
      "text/plain": [
       "17438"
      ]
     },
     "execution_count": 4,
     "metadata": {},
     "output_type": "execute_result"
    }
   ],
   "source": [
    "temp = df.filter(polars.col(\"question\").str.contains(\"2018\"))\n",
    "\n",
    "len(temp) "
   ]
  },
  {
   "cell_type": "code",
   "execution_count": 5,
   "id": "cd3eec3a-78aa-4a13-aeb6-ef11d2411ee6",
   "metadata": {},
   "outputs": [
    {
     "data": {
      "text/plain": [
       "32.09833000711123"
      ]
     },
     "execution_count": 5,
     "metadata": {},
     "output_type": "execute_result"
    }
   ],
   "source": [
    "temp = df.filter(~polars.col(\"question\").str.contains(r\"[1-2][0-9][0-9][0-9]\"))\n",
    "\n",
    "len(temp) / len(df) * 100"
   ]
  },
  {
   "cell_type": "code",
   "execution_count": 6,
   "id": "d6c2b8e4-6300-4e82-a475-f24b0fde2f22",
   "metadata": {},
   "outputs": [
    {
     "data": {
      "text/plain": [
       "223882"
      ]
     },
     "execution_count": 6,
     "metadata": {},
     "output_type": "execute_result"
    }
   ],
   "source": [
    "len(temp)"
   ]
  },
  {
   "cell_type": "code",
   "execution_count": 9,
   "id": "648f844b-930b-47e4-966b-e6bf825c414c",
   "metadata": {},
   "outputs": [
    {
     "data": {
      "text/html": [
       "<div><style>\n",
       ".dataframe > thead > tr,\n",
       ".dataframe > tbody > tr {\n",
       "  text-align: right;\n",
       "  white-space: pre-wrap;\n",
       "}\n",
       "</style>\n",
       "<small>shape: (223_882,)</small><table border=\"1\" class=\"dataframe\"><thead><tr><th>q_title</th></tr><tr><td>str</td></tr></thead><tbody><tr><td>&quot;Bastra&quot;</td></tr><tr><td>&quot;Tip and ring&quot;</td></tr><tr><td>&quot;Basu&quot;</td></tr><tr><td>&quot;Accons&quot;</td></tr><tr><td>&quot;South Brooksville, Florida&quot;</td></tr><tr><td>&hellip;</td></tr><tr><td>&quot;Wrack zone&quot;</td></tr><tr><td>&quot;Christmas in Ukraine&quot;</td></tr><tr><td>&quot;Sir Matt Busby Player of the Y…</td></tr><tr><td>&quot;Pawhuska, Oklahoma&quot;</td></tr><tr><td>&quot;Tyonek, Alaska&quot;</td></tr></tbody></table></div>"
      ],
      "text/plain": [
       "shape: (223_882,)\n",
       "Series: 'q_title' [str]\n",
       "[\n",
       "\t\"Bastra\"\n",
       "\t\"Tip and ring\"\n",
       "\t\"Basu\"\n",
       "\t\"Accons\"\n",
       "\t\"South Brooksville, Florida\"\n",
       "\t…\n",
       "\t\"Wrack zone\"\n",
       "\t\"Christmas in Ukraine\"\n",
       "\t\"Sir Matt Busby Player of the Y…\n",
       "\t\"Pawhuska, Oklahoma\"\n",
       "\t\"Tyonek, Alaska\"\n",
       "]"
      ]
     },
     "execution_count": 9,
     "metadata": {},
     "output_type": "execute_result"
    }
   ],
   "source": [
    "temp[\"q_title\"]"
   ]
  },
  {
   "cell_type": "code",
   "execution_count": 142,
   "id": "e8951ea8-47d3-40c1-a163-fd799a512f41",
   "metadata": {},
   "outputs": [
    {
     "data": {
      "text/html": [
       "<div><style>\n",
       ".dataframe > thead > tr,\n",
       ".dataframe > tbody > tr {\n",
       "  text-align: right;\n",
       "  white-space: pre-wrap;\n",
       "}\n",
       "</style>\n",
       "<small>shape: (576,)</small><table border=\"1\" class=\"dataframe\"><thead><tr><th>q_title</th></tr><tr><td>str</td></tr></thead><tbody><tr><td>&quot;1881 Chicago White Stockings s…</td></tr><tr><td>&quot;London Underground R Stock&quot;</td></tr><tr><td>&quot;Stockholm County&quot;</td></tr><tr><td>&quot;London Underground Standard St…</td></tr><tr><td>&quot;Luxembourg Stock Exchange&quot;</td></tr><tr><td>&hellip;</td></tr><tr><td>&quot;BoE Stockbrokers&quot;</td></tr><tr><td>&quot;Stockton, New Jersey&quot;</td></tr><tr><td>&quot;Stockport, Iowa&quot;</td></tr><tr><td>&quot;1888 Cincinnati Red Stockings …</td></tr><tr><td>&quot;Stockdale, Pennsylvania&quot;</td></tr></tbody></table></div>"
      ],
      "text/plain": [
       "shape: (576,)\n",
       "Series: 'q_title' [str]\n",
       "[\n",
       "\t\"1881 Chicago White Stockings s…\n",
       "\t\"London Underground R Stock\"\n",
       "\t\"Stockholm County\"\n",
       "\t\"London Underground Standard St…\n",
       "\t\"Luxembourg Stock Exchange\"\n",
       "\t…\n",
       "\t\"BoE Stockbrokers\"\n",
       "\t\"Stockton, New Jersey\"\n",
       "\t\"Stockport, Iowa\"\n",
       "\t\"1888 Cincinnati Red Stockings …\n",
       "\t\"Stockdale, Pennsylvania\"\n",
       "]"
      ]
     },
     "execution_count": 142,
     "metadata": {},
     "output_type": "execute_result"
    }
   ],
   "source": [
    "d = df.filter(polars.col(\"q_title\").str.contains(\"Stock\"))\n",
    "\n",
    "d[\"q_title\"]"
   ]
  },
  {
   "cell_type": "code",
   "execution_count": 140,
   "id": "59847dce-effa-4d8a-b7f7-33098491c627",
   "metadata": {},
   "outputs": [
    {
     "data": {
      "text/plain": [
       "('1543486',\n",
       " 'Third plague pandemic',\n",
       " '2023-12-15 00:00:00',\n",
       " \"Third plague pandemic bubonic plague pandemic, beginning 1855the third plague pandemic was a major bubonic plague pandemic that began in yunnan, china, in 1855. this episode of bubonic plague spread to all inhabited continents, and ultimately led to more than 12 million deaths in india and china (and perhaps over 15 million worldwide), and at least 10 million indians were killed in british raj india alone, making it one of the deadliest pandemics in history. according to the world health organization, the pandemic was considered active until 1960 when worldwide casualties dropped to 200 per year. plague deaths have continued at a lower level for every year since.the name refers to the third of at least three known major plague pandemics. the first began with the plague of justinian, which ravaged the byzantine empire and surrounding areas in 541 and 542; the pandemic persisted in successive waves until the middle of the 8th century. the second began with the black death, which killed at least one third of europe's population in a series of expanding waves of infection from 1346 to 1353; this pandemic recurred regularly until the 19th century.casualty patterns indicate that waves of this late-19th-century/early-20th-century pandemic may have come from two\",\n",
       " 10,\n",
       " [],\n",
       " [{'d_id': '1543486',\n",
       "   'd_title': 'Third plague pandemic',\n",
       "   'd_timestamp': '2023-12-15 00:00:00',\n",
       "   'text': \"Third plague pandemic bubonic plague pandemic, beginning 1855the third plague pandemic was a major bubonic plague pandemic that began in yunnan, china, in 1855. this episode of bubonic plague spread to all inhabited continents, and ultimately led to more than 12 million deaths in india and china (and perhaps over 15 million worldwide), and at least 10 million indians were killed in british raj india alone, making it one of the deadliest pandemics in history. according to the world health organization, the pandemic was considered active until 1960 when worldwide casualties dropped to 200 per year. plague deaths have continued at a lower level for every year since.the name refers to the third of at least three known major plague pandemics. the first began with the plague of justinian, which ravaged the byzantine empire and surrounding areas in 541 and 542; the pandemic persisted in successive waves until the middle of the 8th century. the second began with the black death, which killed at least one third of europe's population in a series of expanding waves of infection from 1346 to 1353; this pandemic recurred regularly until the 19th century.casualty patterns indicate that waves of this late-19th-century/early-20th-century pandemic may have come from two\",\n",
       "   'doc_score': '0.8722034096717834'},\n",
       "  {'d_id': '1543486',\n",
       "   'd_title': 'Third plague pandemic',\n",
       "   'd_timestamp': '2023-12-15 00:00:00',\n",
       "   'text': 'Third plague pandemic different sources. the first was primarily bubonic and was carried around the world through ocean-going trade, through transporting infected persons, rats, and cargoes harboring fleas. the second, more virulent strain, was primarily pneumonic in character with a strong person-to-person contagion. this strain was largely confined to asia.origins.the bubonic plague was endemic in populations of infected ground rodents in central asia and was a known cause of death among the migrant and established human populations in that region for centuries. an influx of new people because of political conflicts and global trade led to the spread of the disease throughout the world from asia to the rest of europe, to reach africa and the americas.a natural reservoir or nidus for plague is in western yunnan and is still an ongoing health risk. the third pandemic of plague originated in the area after a rapid influx of han chinese to exploit the demand for minerals, primarily copper, in the second half of the 19th century. by 1850, the population had exploded to over 7 million people. increasing transportation throughout the region brought people in contact with plague-infected fleas, the primary vector between the yellow-breasted rat (\"rattus flavipectus\") and humans. people brought the',\n",
       "   'doc_score': '1.8509812355041504'},\n",
       "  {'d_id': '1543486',\n",
       "   'd_title': 'Third plague pandemic',\n",
       "   'd_timestamp': '2023-12-15 00:00:00',\n",
       "   'text': 'Third plague pandemic argentina in 1945.1894 hong kong plague.the 1894 hong kong plague was a major outbreak of the third global pandemic from the late 19th century to the early 20th century. the first case, discovered in may 1894, was a hospital clerk who had just returned from canton. the hardest hit was the mountainous area in sheung wan, the most densely-populated area in hong kong, characterised by chinese-style buildings. from may to october 1894, the plague killed more than 6,000 people, leading to the exodus of one third of the population. in the 30 years starting in 1926, the plague occurred in hong kong almost every year and killed more than 20,000 people. through maritime traffic, the epidemic spread to the rest of the country after 1894 and eventually spread to british raj india where about ten million indians were killed.there were several reasons for the rapid outbreak and spread of the plague. firstly, in the early days, sheung wan was a chinese settlement. houses  -  in the mountains  -  had no drainage channels, toilets, or running water. the houses were small and the floors were not paved. secondly, during the ching ming festival in 1894, many chinese',\n",
       "   'doc_score': '1.9937961101531982'}])"
      ]
     },
     "execution_count": 140,
     "metadata": {},
     "output_type": "execute_result"
    }
   ],
   "source": [
    "j = 0\n",
    "\n",
    "d[\"q_id\"][j], d[\"q_title\"][j], d[\"q_timestamp\"][j], d[\"question\"][j], len(d[\"positive_ctxs\"][j]), [_ for _ in d[\"positive_ctxs\"][j] if _[\"d_id\"]==d[\"q_id\"][j]], [_ for _ in d[\"weak_positive_ctxs\"][j] if _[\"d_id\"]==d[\"q_id\"][j]]"
   ]
  },
  {
   "cell_type": "code",
   "execution_count": null,
   "id": "572c031f-15bd-4679-ad1a-11ac769ddaf0",
   "metadata": {},
   "outputs": [],
   "source": []
  }
 ],
 "metadata": {
  "kernelspec": {
   "display_name": "nlp",
   "language": "python",
   "name": "nlp"
  },
  "language_info": {
   "codemirror_mode": {
    "name": "ipython",
    "version": 3
   },
   "file_extension": ".py",
   "mimetype": "text/x-python",
   "name": "python",
   "nbconvert_exporter": "python",
   "pygments_lexer": "ipython3",
   "version": "3.12.9"
  }
 },
 "nbformat": 4,
 "nbformat_minor": 5
}
