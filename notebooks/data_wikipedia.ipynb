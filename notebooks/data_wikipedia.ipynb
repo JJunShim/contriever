{
 "cells": [
  {
   "cell_type": "code",
   "execution_count": 1,
   "id": "7995003d-a8f3-4624-ad29-87fd63ebf5ae",
   "metadata": {},
   "outputs": [],
   "source": [
    "import os\n",
    "import pandas\n",
    "import polars\n",
    "from thefuzz import fuzz"
   ]
  },
  {
   "cell_type": "code",
   "execution_count": 2,
   "id": "93e414f6-bb61-4325-8f36-a019eeb80691",
   "metadata": {},
   "outputs": [
    {
     "data": {
      "text/plain": [
       "dict_keys(['20181220_20211220_20231220_all_diff_rm_test_doc_finetuning_data_p25_target_trimmed_all_info_20231220.jsonl', '20181220_20211220_20231220_all_diff_rm_test_doc_finetuning_data_p25_target_trimmed_all_info_20181220.jsonl', '20181220_20211220_20231220_all_diff_rm_test_doc_finetuning_data_p25_target_trimmed_all_info_20211220.jsonl'])"
      ]
     },
     "execution_count": 2,
     "metadata": {},
     "output_type": "execute_result"
    }
   ],
   "source": [
    "BASE = \"/mnt/hlilabshare/khyunjin1993/tpour/\"\n",
    "# FILES = [_ for _ in os.listdir(BASE) if _.split(\".\")[-1] in [\"json\", \"jsonl\"]]\n",
    "FILES = [_ for _ in os.listdir(BASE) if \"all_info\" in _]\n",
    "\n",
    "dfs = {f: polars.scan_ndjson(os.path.join(BASE, f)) for f in FILES}\n",
    "\n",
    "dfs.keys()"
   ]
  },
  {
   "cell_type": "code",
   "execution_count": null,
   "id": "0d3d8958-2e66-46fc-8574-7cf2e920af76",
   "metadata": {},
   "outputs": [],
   "source": [
    "# df = pandas.read_json(PATH, lines=True)"
   ]
  },
  {
   "cell_type": "code",
   "execution_count": 3,
   "id": "4c8c9167-707c-4b75-9045-2178f5c3039e",
   "metadata": {},
   "outputs": [],
   "source": [
    "i = 1000\n",
    "df = dfs[list(dfs.keys())[1]]\n",
    "df = df.collect()\n",
    "# temp = df.slice(i-1000, i).collect()\n",
    "\n",
    "# temp.columns"
   ]
  },
  {
   "cell_type": "code",
   "execution_count": 35,
   "id": "0a539689-983a-4411-9b66-a7af69e361d3",
   "metadata": {},
   "outputs": [
    {
     "data": {
      "text/html": [
       "<div><style>\n",
       ".dataframe > thead > tr,\n",
       ".dataframe > tbody > tr {\n",
       "  text-align: right;\n",
       "  white-space: pre-wrap;\n",
       "}\n",
       "</style>\n",
       "<small>shape: (206_025, 2)</small><table border=\"1\" class=\"dataframe\"><thead><tr><th>q_id</th><th>len</th></tr><tr><td>str</td><td>u32</td></tr></thead><tbody><tr><td>&quot;13921998&quot;</td><td>1</td></tr><tr><td>&quot;11693370&quot;</td><td>1</td></tr><tr><td>&quot;10275800&quot;</td><td>1</td></tr><tr><td>&quot;15291375&quot;</td><td>1</td></tr><tr><td>&quot;15473493&quot;</td><td>1</td></tr><tr><td>&hellip;</td><td>&hellip;</td></tr><tr><td>&quot;1308994&quot;</td><td>149</td></tr><tr><td>&quot;12649182&quot;</td><td>151</td></tr><tr><td>&quot;12686&quot;</td><td>154</td></tr><tr><td>&quot;11153273&quot;</td><td>154</td></tr><tr><td>&quot;10398449&quot;</td><td>156</td></tr></tbody></table></div>"
      ],
      "text/plain": [
       "shape: (206_025, 2)\n",
       "┌──────────┬─────┐\n",
       "│ q_id     ┆ len │\n",
       "│ ---      ┆ --- │\n",
       "│ str      ┆ u32 │\n",
       "╞══════════╪═════╡\n",
       "│ 13921998 ┆ 1   │\n",
       "│ 11693370 ┆ 1   │\n",
       "│ 10275800 ┆ 1   │\n",
       "│ 15291375 ┆ 1   │\n",
       "│ 15473493 ┆ 1   │\n",
       "│ …        ┆ …   │\n",
       "│ 1308994  ┆ 149 │\n",
       "│ 12649182 ┆ 151 │\n",
       "│ 12686    ┆ 154 │\n",
       "│ 11153273 ┆ 154 │\n",
       "│ 10398449 ┆ 156 │\n",
       "└──────────┴─────┘"
      ]
     },
     "execution_count": 35,
     "metadata": {},
     "output_type": "execute_result"
    }
   ],
   "source": [
    "df.group_by(\"q_id\").len().sort(\"len\")"
   ]
  },
  {
   "cell_type": "code",
   "execution_count": 10,
   "id": "df27372a-9e24-4d7b-b3f7-4e7c59ac7d26",
   "metadata": {},
   "outputs": [
    {
     "data": {
      "text/html": [
       "<div><style>\n",
       ".dataframe > thead > tr,\n",
       ".dataframe > tbody > tr {\n",
       "  text-align: right;\n",
       "  white-space: pre-wrap;\n",
       "}\n",
       "</style>\n",
       "<small>shape: (0, 6)</small><table border=\"1\" class=\"dataframe\"><thead><tr><th>q_id</th><th>q_title</th><th>q_timestamp</th><th>question</th><th>positive_ctxs</th><th>weak_positive_ctxs</th></tr><tr><td>str</td><td>str</td><td>str</td><td>str</td><td>list[struct[5]]</td><td>list[struct[5]]</td></tr></thead><tbody></tbody></table></div>"
      ],
      "text/plain": [
       "shape: (0, 6)\n",
       "┌──────┬─────────┬─────────────┬──────────┬─────────────────┬────────────────────┐\n",
       "│ q_id ┆ q_title ┆ q_timestamp ┆ question ┆ positive_ctxs   ┆ weak_positive_ctxs │\n",
       "│ ---  ┆ ---     ┆ ---         ┆ ---      ┆ ---             ┆ ---                │\n",
       "│ str  ┆ str     ┆ str         ┆ str      ┆ list[struct[5]] ┆ list[struct[5]]    │\n",
       "╞══════╪═════════╪═════════════╪══════════╪═════════════════╪════════════════════╡\n",
       "└──────┴─────────┴─────────────┴──────────┴─────────────────┴────────────────────┘"
      ]
     },
     "execution_count": 10,
     "metadata": {},
     "output_type": "execute_result"
    }
   ],
   "source": [
    "temp = df.filter(polars.col(\"q_id\") == \"10059591\")\n",
    "\n",
    "temp"
   ]
  },
  {
   "cell_type": "code",
   "execution_count": 10,
   "id": "fb887089-ee3c-4842-85e1-86acc7aadd64",
   "metadata": {},
   "outputs": [
    {
     "data": {
      "text/plain": [
       "1.1122345803842266"
      ]
     },
     "execution_count": 10,
     "metadata": {},
     "output_type": "execute_result"
    }
   ],
   "source": [
    "1.1 / 98.9 * 100"
   ]
  },
  {
   "cell_type": "code",
   "execution_count": 4,
   "id": "4c036336-ea4d-4484-b10e-8f4f379c618b",
   "metadata": {},
   "outputs": [
    {
     "data": {
      "text/plain": [
       "17438"
      ]
     },
     "execution_count": 4,
     "metadata": {},
     "output_type": "execute_result"
    }
   ],
   "source": [
    "temp = df.filter(polars.col(\"question\").str.contains(\"2018\"))\n",
    "\n",
    "len(temp) "
   ]
  },
  {
   "cell_type": "code",
   "execution_count": 22,
   "id": "cd3eec3a-78aa-4a13-aeb6-ef11d2411ee6",
   "metadata": {},
   "outputs": [
    {
     "data": {
      "text/plain": [
       "32.09833000711123"
      ]
     },
     "execution_count": 22,
     "metadata": {},
     "output_type": "execute_result"
    }
   ],
   "source": [
    "temp = df.filter(~polars.col(\"question\").str.contains(r\"[1-2][0-9][0-9][0-9]\"))\n",
    "\n",
    "len(temp) / len(df) * 100"
   ]
  },
  {
   "cell_type": "code",
   "execution_count": 14,
   "id": "d6c2b8e4-6300-4e82-a475-f24b0fde2f22",
   "metadata": {},
   "outputs": [
    {
     "data": {
      "text/plain": [
       "266928"
      ]
     },
     "execution_count": 14,
     "metadata": {},
     "output_type": "execute_result"
    }
   ],
   "source": [
    "len(temp)"
   ]
  },
  {
   "cell_type": "code",
   "execution_count": 17,
   "id": "59847dce-effa-4d8a-b7f7-33098491c627",
   "metadata": {
    "scrolled": true
   },
   "outputs": [
    {
     "data": {
      "text/plain": [
       "('1105937',\n",
       " 'Electrical wiring',\n",
       " '2023-12-04 00:00:00',\n",
       " 'Electrical wiring where exposure to ultraviolet radiation (uv) is a possibility. these cables differ in having a moisture-resistant construction, lacking paper or other absorbent fillers, and being formulated for uv resistance.rubber-like synthetic polymer insulation is used in industrial cables and power cables installed underground because of its superior moisture resistance.insulated cables are rated by their allowable operating voltage and their maximum operating temperature at the conductor surface. a cable may carry multiple usage ratings for applications, for example, one rating for dry installations and another when exposed to moisture or oil.generally, single conductor building wire in small sizes is solid wire, since the wiring is not required to be very flexible. building wire conductors larger than 10 awg (or about 5\\xa0mm2) are stranded for flexibility during installation, but are not sufficiently pliable to use as appliance cord.cables for industrial, commercial and apartment buildings may contain many insulated conductors in an overall jacket, with helical tape steel or aluminium armour, or steel wire armour, and perhaps as well an overall pvc or lead jacket for protection from moisture and physical damage. cables intended for very flexible service or in marine applications may be protected by woven bronze wires. power or communications cables (e.g.,',\n",
       " 10,\n",
       " [{'d_id': '1105937',\n",
       "   'd_title': 'Electrical wiring',\n",
       "   'd_timestamp': '2023-12-04 00:00:00',\n",
       "   'text': 'Electrical wiring where exposure to ultraviolet radiation (uv) is a possibility. these cables differ in having a moisture-resistant construction, lacking paper or other absorbent fillers, and being formulated for uv resistance.rubber-like synthetic polymer insulation is used in industrial cables and power cables installed underground because of its superior moisture resistance.insulated cables are rated by their allowable operating voltage and their maximum operating temperature at the conductor surface. a cable may carry multiple usage ratings for applications, for example, one rating for dry installations and another when exposed to moisture or oil.generally, single conductor building wire in small sizes is solid wire, since the wiring is not required to be very flexible. building wire conductors larger than 10 awg (or about 5\\xa0mm2) are stranded for flexibility during installation, but are not sufficiently pliable to use as appliance cord.cables for industrial, commercial and apartment buildings may contain many insulated conductors in an overall jacket, with helical tape steel or aluminium armour, or steel wire armour, and perhaps as well an overall pvc or lead jacket for protection from moisture and physical damage. cables intended for very flexible service or in marine applications may be protected by woven bronze wires. power or communications cables (e.g.,',\n",
       "   'doc_score': '0.8535901308059692'},\n",
       "  {'d_id': '1105937',\n",
       "   'd_title': 'Electrical wiring',\n",
       "   'd_timestamp': '2023-12-04 00:00:00',\n",
       "   'text': 'Electrical wiring also be different for wet or dry locations, for hot (attic) or cool (underground) locations. in a run of cable through several areas, the part with the lowest rating becomes the rating of the overall run.cables usually are secured with special fittings where they enter electrical apparatus; this may be a simple screw clamp for jacketed cables in a dry location, or a polymer-gasketed cable connector that mechanically engages the armour of an armoured cable and provides a water-resistant connection. special cable fittings may be applied to prevent explosive gases from flowing in the interior of jacketed cables, where the cable passes through areas where flammable gases are present. to prevent loosening of the connections of individual conductors of a cable, cables must be supported near their entrance to devices and at regular intervals along their runs. in tall buildings, special designs are required to support the conductors of vertical runs of cable. generally, only one cable per fitting is permitted, unless the fitting is rated or listed for multiple cables.special cable constructions and termination techniques are required for cables installed in ships. such assemblies are subjected to environmental and mechanical extremes. therefore, in addition to electrical and fire safety',\n",
       "   'doc_score': '1.8157203197479248'},\n",
       "  {'d_id': '1105937',\n",
       "   'd_title': 'Electrical wiring',\n",
       "   'd_timestamp': '2023-12-04 00:00:00',\n",
       "   'text': 'Electrical wiring computer networking) that are routed in or through air-handling spaces (plenums) of office buildings are required under the model building code to be either encased in metal conduit, or rated for low flame and smoke production.for some industrial uses in steel mills and similar hot environments, no organic material gives satisfactory service. cables insulated with compressed mica flakes are sometimes used. another form of high-temperature cable is mineral-insulated cable, with individual conductors placed within a copper tube and the space filled with magnesium oxide powder. the whole assembly is drawn down to smaller sizes, thereby compressing the powder. such cables have a certified fire resistance rating and are more costly than non-fire-rated cable. they have little flexibility and behave more like rigid conduit rather than flexible cables.the environment of the installed wires determine how much current a cable is permitted to carry. because multiple conductors bundled in a cable cannot dissipate heat as easily as single insulated conductors, those circuits are always rated at a lower ampacity. tables in electrical safety codes give the maximum allowable current based on size of conductor, voltage potential, insulation type and thickness, and the temperature rating of the cable itself. the allowable current will',\n",
       "   'doc_score': '1.8462715148925781'},\n",
       "  {'d_id': '15066',\n",
       "   'd_title': 'Insulator (electricity)',\n",
       "   'd_timestamp': '2023-12-15 00:00:00',\n",
       "   'text': 'Insulator (electricity) wire and cable products have maximum ratings for voltage and conductor temperature. the product may not have an ampacity (current-carrying capacity) rating, since this is dependent on the surrounding environment (e.g. ambient temperature).in electronic systems, printed circuit boards are made from epoxy plastic and fibreglass. the nonconductive boards support layers of copper foil conductors. in electronic devices, the tiny and delicate active components are embedded within nonconductive epoxy or phenolic plastics, or within baked glass or ceramic coatings.in microelectronic components such as transistors and ics, the silicon material is normally a conductor because of doping, but it can easily be selectively transformed into a good insulator by the application of heat and oxygen. oxidised silicon is quartz, i.e. silicon dioxide, the primary component of glass.in high voltage systems containing transformers and capacitors, liquid insulator oil is the typical method used for preventing arcs. the oil replaces air in spaces that must support significant voltage without electrical breakdown. other high voltage system insulation materials include ceramic or glass wire holders, gas, vacuum, and simply placing wires far enough apart to use air as insulation.insulation in electrical apparatus.the most important insulation material is air. a variety of solid, liquid, and gaseous insulators',\n",
       "   'doc_score': '1.86436927318573'},\n",
       "  {'d_id': '1105937',\n",
       "   'd_title': 'Electrical wiring',\n",
       "   'd_timestamp': '2023-12-04 00:00:00',\n",
       "   'text': 'Electrical wiring addressed by coating aluminium conductors with an antioxidant paste (containing zinc dust in a low-residue polybutene base) at joints, or by applying a mechanical termination designed to break through the oxide layer during installation.some terminations on wiring devices designed only for copper wire would overheat under heavy current load and cause fires when used with aluminium conductors. revised standards for wire materials and wiring devices (such as the co/alr \"copper-aluminium-revised\" designation) were developed to reduce these problems. while larger sizes are still used to feed power to electrical panels and large devices, aluminium wiring for residential use has acquired a poor reputation and has fallen out of favour.aluminium conductors are still heavily used for bulk power transmission, power distribution, and large feeder circuits with heavy current loads, due to the various advantages they offer over copper wiring. aluminium conductors both cost and weigh less than copper conductors, so a much larger cross sectional area can be used for the same weight and price. this can compensate for the higher resistance and lower mechanical strength of aluminium, meaning the larger cross sectional area is needed to achieve comparable current capacity and other features. aluminium conductors must be installed with compatible connectors',\n",
       "   'doc_score': '1.9102176427841187'},\n",
       "  {'d_id': '1105937',\n",
       "   'd_title': 'Electrical wiring',\n",
       "   'd_timestamp': '2023-12-04 00:00:00',\n",
       "   'text': 'Electrical wiring insulation properties needed for fire resistance also inhibit air cooling of power conductors.cable trays are used in industrial areas where many insulated cables are run together. individual cables can exit the tray at any point, simplifying the wiring installation and reducing the labour cost for installing new cables. power cables may have fittings in the tray to maintain clearance between the conductors, but small control wiring is often installed without any intentional spacing between cables.local electrical regulations may restrict or place special requirements on mixing of voltage levels within one cable tray. good design practices may segregate, for example, low level measurement or signal cables from trays carrying high power branch circuits, to prevent induction of noise into sensitive circuits.since wires run in conduits or underground cannot dissipate heat as easily as in open air, and since adjacent circuits contribute induced currents, wiring regulations give rules to establish the current capacity (ampacity).special sealed fittings are used for wiring routed through potentially explosive atmospheres.bus bars, bus duct, cable bus.for very high currents in electrical apparatus, and for high currents distributed through a building, bus bars can be used. (the term \"bus\" is a contraction of the latin \"omnibus\" - meaning \"for',\n",
       "   'doc_score': '1.9173030853271484'},\n",
       "  {'d_id': '1105937',\n",
       "   'd_title': 'Electrical wiring',\n",
       "   'd_timestamp': '2023-12-04 00:00:00',\n",
       "   'text': 'Electrical wiring wire or cable has a voltage (to neutral) rating and a maximum conductor surface temperature rating. the amount of current a cable or wire can safely carry depends on the installation conditions.the international standard wire sizes are given in the iec 60228 standard of the international electrotechnical commission. in north america, the american wire gauge standard for wire sizes is used.cables.modern wiring materials.modern non-metallic sheathed cables, such as (us and canadian) types nmb and nmc, consist of two to four wires covered with thermoplastic insulation, plus a wire for protective earthing/grounding (bonding), surrounded by a flexible plastic jacket. in north america and the uk this conductor is usually bare wire but in the uk it is required that this bare protective earth (pe) conductor be sheathed in green/yellow insulating tubing where the cable sheathing has been removed. most other jurisdictions now require the protective earth conductor to be insulated to the same standard as the current carrying conductors with green/yellow insulation.with some cables the individual conductors are wrapped in paper before the plastic jacket is applied.special versions of non-metallic sheathed cables, such as us type uf, are designed for direct underground burial (often with separate mechanical protection) or exterior use',\n",
       "   'doc_score': '1.923595666885376'},\n",
       "  {'d_id': '1480601',\n",
       "   'd_title': 'Power cable',\n",
       "   'd_timestamp': '2023-11-19 00:00:00',\n",
       "   'text': \"Power cable structure. this cable would be called an armored riser cable. for shorter vertical transitions (perhaps 30-150 feet) an unarmored cable can be used in conjunction with basket (kellum) grips or even specially designed duct plugs.material specification for the cable's jacket will often consider resistance to water, oil, sunlight, underground conditions, chemical vapors, impact, fire, or high temperatures. in nuclear industry applications the cable may have special requirements for ionizing radiation resistance. cable materials for a transit application may be specified not to produce large amounts of smoke if burned (low smoke zero halogen). cables intended for direct burial must consider damage from backfill or dig-ins. hdpe or polypropylene jackets are common for this use. cables intended for subway (underground vaults) may consider oil, fire resistance, or low smoke as a priority. few cables these days still employ an overall lead sheath. however, some utilities may still install paper insulated lead covered cable in distribution circuits. transmission or submarine cables are more likely to use lead sheaths. however, lead is in decline and few manufacturers exist today to produce such items. when cables must run where exposed to mechanical damage (industrial sites), they may be protected with flexible steel tape or\",\n",
       "   'doc_score': '1.9378098249435425'},\n",
       "  {'d_id': '1105937',\n",
       "   'd_title': 'Electrical wiring',\n",
       "   'd_timestamp': '2023-12-04 00:00:00',\n",
       "   'text': 'Electrical wiring of both systems are required to be separately identified and made distinguishable to avoid cross-system connections. most often, 120/208-volt systems use white insulation, while 277/480-volt systems use grey insulation, although this particular colour code is not currently an explicit requirement of the nec. some local jurisdictions do specify required color coding in their local building codes, however.wiring methods.materials for wiring interior electrical systems in buildings vary depending on:wiring systems in a single family home or duplex, for example, are simple, with relatively low power requirements, infrequent changes to the building structure and layout, usually with dry, moderate temperature and non-corrosive environmental conditions. in a light commercial environment, more frequent wiring changes can be expected, large apparatus may be installed and special conditions of heat or moisture may apply. heavy industries have more demanding wiring requirements, such as very large currents and higher voltages, frequent changes of equipment layout, corrosive, or wet or explosive atmospheres. in facilities that handle flammable gases or liquids, special rules may govern the installation and wiring of electrical equipment in hazardous areas.wires and cables are rated by the circuit voltage, temperature rating and environmental conditions (moisture, sunlight, oil, chemicals) in which they can be used. a',\n",
       "   'doc_score': '1.9414911270141602'},\n",
       "  {'d_id': '1480601',\n",
       "   'd_title': 'Power cable',\n",
       "   'd_timestamp': '2023-11-19 00:00:00',\n",
       "   'text': 'Power cable polymers, including xlpe for insulation. they require special techniques for jointing and terminating, see high-voltage cable.flexibility of cables (stranding class).all electrical cables are somewhat flexible, allowing them to be shipped to installation sites wound on reels, drums or hand coils. flexibility is an important factor in determining the appropriate stranding class of the cable as it directly affects the minimum bending radius. power cables are generally stranding class a, b, or c. these classes allow for the cable to be trained into a final installed position where the cable will generally not be disturbed. class a, b, and c offer more durability, especially when pulling cable, and are generally cheaper. power utilities generally order class b stranded wire for primary and secondary voltage applications. at times, a solid conductor medium voltage cable can be used when flexibility is not a concern but low cost and water blocking are prioritized.applications requiring a cable to be moved repeatedly, such as for portable equipment, more flexible cables called \"cords\" or \"flex\" are used (stranding class g-m). flexible cords contain fine stranded conductors, rope lay or bunch stranded. they feature overall jackets with appropriate amounts of filler materials to improve their flexibility, trainability, and',\n",
       "   'doc_score': '1.9764049053192139'}],\n",
       " [{'d_id': '1105937',\n",
       "   'd_title': 'Electrical wiring',\n",
       "   'd_timestamp': '2018-12-04 00:00:00',\n",
       "   'text': 'Electrical wiring in the IEC 60228 standard of the International Electrotechnical Commission. In North America, the American Wire Gauge standard for wire sizes is used.\\nCables.\\nModern wiring materials.\\nModern non-metallic sheathed cables, such as (US and Canadian) Types NMB and NMC, consist of two to four wires covered with thermoplastic insulation, plus a bare wire for grounding (bonding), surrounded by a flexible plastic jacket. Some versions wrap the individual conductors in paper before the plastic jacket is applied.\\nSpecial versions of non-metallic sheathed cables, such as US Type UF, are designed for direct underground burial (often with separate mechanical protection) or exterior use where exposure to ultraviolet radiation (UV) is a possibility. These cables differ in having a moisture-resistant construction, lacking paper or other absorbent fillers, and being formulated for UV resistance.\\nRubber-like synthetic polymer insulation is used in industrial cables and power cables installed underground because of its superior moisture resistance.\\nInsulated cables are rated by their allowable operating voltage and their maximum operating temperature at the conductor surface. A cable may carry multiple usage ratings for applications, for example, one rating for dry installations and another when exposed to moisture or oil.\\nGenerally, single conductor building wire in small sizes is solid wire, since the wiring',\n",
       "   'doc_score': '1.3283045291900635'},\n",
       "  {'d_id': '1105937',\n",
       "   'd_title': 'Electrical wiring',\n",
       "   'd_timestamp': '2018-12-04 00:00:00',\n",
       "   'text': 'Electrical wiring is not required to be very flexible. Building wire conductors larger than 10 AWG (or about 6\\xa0mm²) are stranded for flexibility during installation, but are not sufficiently pliable to use as appliance cord.\\nCables for industrial, commercial and apartment buildings may contain many insulated conductors in an overall jacket, with helical tape steel or aluminium armour, or steel wire armour, and perhaps as well an overall PVC or lead jacket for protection from moisture and physical damage. Cables intended for very flexible service or in marine applications may be protected by woven bronze wires. Power or communications cables (e.g., computer networking) that are routed in or through air-handling spaces (plenums) of office buildings are required under the model building code to be either encased in metal conduit, or rated for low flame and smoke production.\\nFor some industrial uses in steel mills and similar hot environments, no organic material gives satisfactory service. Cables insulated with compressed mica flakes are sometimes used. Another form of high-temperature cable is a mineral insulated cable, with individual conductors placed within a copper tube and the space filled with magnesium oxide powder. The whole assembly is drawn down to smaller sizes, thereby compressing the powder. Such cables',\n",
       "   'doc_score': '1.4987614154815674'},\n",
       "  {'d_id': '1105937',\n",
       "   'd_title': 'Electrical wiring',\n",
       "   'd_timestamp': '2018-12-04 00:00:00',\n",
       "   'text': 'Electrical wiring have a certified fire resistance rating and are more costly than non-fire rated cable. They have little flexibility and behave more like rigid conduit rather than flexible cables.\\nThe environment of the installed wires determine how much current a cable is permitted to carry. Because multiple conductors bundled in a cable cannot dissipate heat as easily as single insulated conductors, those circuits are always rated at a lower \"ampacity\". Tables in electrical safety codes give the maximum allowable current based on size of conductor, voltage potential, insulation type and thickness, and the temperature rating of the cable itself. The allowable current will also be different for wet or dry locations, for hot (attic) or cool (underground) locations. In a run of cable through several areas, the part with the lowest rating becomes the rating of the overall run.\\nCables usually are secured with special fittings where they enter electrical apparatus; this may be a simple screw clamp for jacketed cables in a dry location, or a polymer-gasketed cable connector that mechanically engages the armour of an armoured cable and provides a water-resistant connection. Special cable fittings may be applied to prevent explosive gases from flowing in the interior of jacketed cables, where',\n",
       "   'doc_score': '1.6900925636291504'},\n",
       "  {'d_id': '1105937',\n",
       "   'd_title': 'Electrical wiring',\n",
       "   'd_timestamp': '2018-12-04 00:00:00',\n",
       "   'text': 'Electrical wiring form of cable has two insulated conductors twisted together to form a unit. Such un-jacketed cables with two (or more) conductors are used only for extra low voltage signal and control applications such as doorbell wiring.\\nOther methods of securing wiring that are now obsolete include:\\nMetal moulding systems, with a flattened oval section consisting of a base strip and a snap-on cap channel, were more costly than open wiring or wooden moulding, but could be easily run on wall surfaces. Similar surface mounted raceway wiring systems are still available today.',\n",
       "   'doc_score': '1.8770642280578613'},\n",
       "  {'d_id': '1105937',\n",
       "   'd_title': 'Electrical wiring',\n",
       "   'd_timestamp': '2018-12-04 00:00:00',\n",
       "   'text': 'Electrical wiring Electrical wiring is an electrical installation of cabling and associated devices such as switches, distribution boards, sockets and light fittings in a structure.\\nWiring is subject to safety standards for design and installation. Allowable wire and cable types and sizes are specified according to the circuit operating voltage and electric current capability, with further restrictions on the environmental conditions, such as ambient temperature range, moisture levels, and exposure to sunlight and chemicals.\\nAssociated circuit protection, control and distribution devices within a building\\'s wiring system are subject to voltage, current and functional specification. Wiring safety codes vary by locality, country or region. The International Electrotechnical Commission (IEC) is attempting to harmonise wiring standards amongst member countries, but significant variations in design and installation requirements still exist.\\nWiring codes of practice and regulations.\\nWiring installation codes and regulations are intended to protect people and property from electrical shock and fire hazards. They are usually based on a model code (with or without local amendments) produced by a national or international standards organisation, such as the IEC.\\nAustralia and New Zealand.\\nIn Australia and New Zealand, the AS/NZS 3000 standard, commonly known as the \"wiring rules\", specifies requirements for the selection and installation of electrical equipment, and the design',\n",
       "   'doc_score': '1.8974403142929077'},\n",
       "  {'d_id': '11234274',\n",
       "   'd_title': 'Optical fiber cable',\n",
       "   'd_timestamp': '2018-12-18 00:00:00',\n",
       "   'text': 'Optical fiber cable dielectric strengthening members (normally a glass rod epoxy), an aramid yarn, and 3\\xa0mm buffer tubing with an additional layer of Kevlar surrounding each fiber. The ripcord is a parallel cord of strong yarn that is situated under the jacket(s) of the cable for jacket removal. Distribution cables have an overall Kevlar wrapping, a ripcord, and a 900 micrometer buffer coating surrounding each fiber. These \"fiber units\" are commonly bundled with additional steel strength members, again with a helical twist to allow for stretching.\\nA critical concern in outdoor cabling is to protect the fiber from contamination by water. This is accomplished by use of solid barriers such as copper tubes, and water-repellent jelly or water-absorbing powder surrounding the fiber.\\nFinally, the cable may be armored to protect it from environmental hazards, such as construction work or gnawing animals. Undersea cables are more heavily armored in their near-shore portions to protect them from boat anchors, fishing gear, and even sharks, which may be attracted to the electrical power that is carried to power amplifiers or repeaters in the cable.\\nModern cables come in a wide variety of sheathings and armor, designed for applications such as direct burial in trenches, dual use as power lines,',\n",
       "   'doc_score': '1.9120301008224487'},\n",
       "  {'d_id': '1105937',\n",
       "   'd_title': 'Electrical wiring',\n",
       "   'd_timestamp': '2018-12-04 00:00:00',\n",
       "   'text': 'Electrical wiring to coloured indicators. For this reason, three-phase control panels will often use indicator lights of the old colours. \\nWiring methods.\\nMaterials for wiring interior electrical systems in buildings vary depending on:\\nWiring systems in a single family home or duplex, for example, are simple, with relatively low power requirements, infrequent changes to the building structure and layout, usually with dry, moderate temperature and non-corrosive environmental conditions. In a light commercial environment, more frequent wiring changes can be expected, large apparatus may be installed and special conditions of heat or moisture may apply. Heavy industries have more demanding wiring requirements, such as very large currents and higher voltages, frequent changes of equipment layout, corrosive, or wet or explosive atmospheres. In facilities that handle flammable gases or liquids, special rules may govern the installation and wiring of electrical equipment in hazardous areas.\\nWires and cables are rated by the circuit voltage, temperature rating and environmental conditions (moisture, sunlight, oil, chemicals) in which they can be used. A wire or cable has a voltage (to neutral) rating and a maximum conductor surface temperature rating. The amount of current a cable or wire can safely carry depends on the installation conditions.\\nThe international standard wire sizes are given',\n",
       "   'doc_score': '1.9222049713134766'},\n",
       "  {'d_id': '1105937',\n",
       "   'd_title': 'Electrical wiring',\n",
       "   'd_timestamp': '2018-12-04 00:00:00',\n",
       "   'text': \"Electrical wiring (rigid steel or aluminium) or non-metallic (PVC or HDPE) tubing. Rectangular cross-section metal or PVC wire troughs (North America) or trunking (UK) may be used if many circuits are required. Wires run underground may be run in plastic tubing encased in concrete, but metal elbows may be used in severe pulls. Wiring in exposed areas, for example factory floors, may be run in cable trays or rectangular raceways having lids.\\nWhere wiring, or raceways that hold the wiring, must traverse fire-resistance rated walls and floors, the openings are required by local building codes to be firestopped. In cases where safety-critical wiring must be kept operational during an accidental fire, fireproofing must be applied to maintain circuit integrity in a manner to comply with a product's certification listing. The nature and thickness of any passive fire protection materials used in conjunction with wiring and raceways has a quantifiable impact upon the ampacity derating, because the thermal insulation properties needed for fire resistance also inhibit air cooling of power conductors.\\nCable trays are used in industrial areas where many insulated cables are run together. Individual cables can exit the tray at any point, simplifying the wiring installation and reducing the labour cost for installing\",\n",
       "   'doc_score': '1.9262151718139648'},\n",
       "  {'d_id': '1105937',\n",
       "   'd_title': 'Electrical wiring',\n",
       "   'd_timestamp': '2018-12-04 00:00:00',\n",
       "   'text': 'Electrical wiring Burley, Harry & Rooney, Henry, \"Insulated electric wire\", issued 1923-06-12, assigned to Boston Insulated Wire And Cable\\xa0. These were two or more solid copper electrical wires with rubber insulation, plus woven cotton cloth over each conductor for protection of the insulation, with an overall woven jacket, usually impregnated with tar as a protection from moisture. Waxed paper was used as a filler and separator.\\nOver time, rubber-insulated cables become brittle because of exposure to atmospheric oxygen, so they must be handled with care and are usually replaced during renovations. When switches, socket outlets or light fixtures are replaced, the mere act of tightening connections may cause hardened insulation to flake off the conductors. Rubber insulation further inside the cable often is in better condition than the insulation exposed at connections, due to reduced exposure to oxygen.\\nThe sulphur in vulcanised rubber insulation attacked bare copper wire so the conductors were tinned to prevent this. The conductors reverted to being bare when rubber ceased to be used.\\nAbout 1950, PVC insulation and jackets were introduced, especially for residential wiring. About the same time, single conductors with a thinner PVC insulation and a thin nylon jacket (e.g. US Type THN, THHN, etc.) became common.\\nThe simplest',\n",
       "   'doc_score': '1.9430394172668457'},\n",
       "  {'d_id': '11686976',\n",
       "   'd_title': 'Aluminium-conductor steel-reinforced cable',\n",
       "   'd_timestamp': '2018-11-13 00:00:00',\n",
       "   'text': \"Aluminium-conductor steel-reinforced cable Aluminium conductor steel-reinforced cable (ACSR) is a type of high-capacity, high-strength stranded conductor typically used in overhead power lines. The outer strands are high-purity aluminium, chosen for its good conductivity, low weight and low cost. The center strand is steel for additional strength to help support the weight of the conductor. Steel is higher strength than aluminium which allows for increased mechanical tension to be applied on the conductor. Steel also has lower elastic and inelastic deformation (permanent elongation) due to mechanical loading (e.g. wind and ice) as well as a lower coefficient of thermal expansion under current loading. These properties allow ACSR to sag significantly less than all-aluminium conductors. Per the International Electrotechnical Commission (IEC) and The CSA Group (formerly the Canadian Standards Association or CSA) naming convention, ACSR is designated A1/S1A.\\nDesign.\\nThe aluminium alloy and temper used for the outer strands in the United States and Canada is normally 1350-H19 and elsewhere is 1370-H19, each with 99.5+% aluminium content. The temper of the aluminium is defined by the aluminium version's suffix, which in the case of H19 is extra hard.\\nTo extend the service life of the steel strands used for the conductor core they are normally galvanized, or coated\",\n",
       "   'doc_score': '1.9761377573013306'},\n",
       "  {'d_id': '1105937',\n",
       "   'd_title': 'Electrical wiring',\n",
       "   'd_timestamp': '2021-11-01 00:00:00',\n",
       "   'text': 'Electrical wiring for uv resistance.rubber-like synthetic polymer insulation is used in industrial cables and power cables installed underground because of its superior moisture resistance.insulated cables are rated by their allowable operating voltage and their maximum operating temperature at the conductor surface. a cable may carry multiple usage ratings for applications, for example, one rating for dry installations and another when exposed to moisture or oil.generally, single conductor building wire in small sizes is solid wire, since the wiring is not required to be very flexible. building wire conductors larger than 10 awg (or about 5\\xa0mm2) are stranded for flexibility during installation, but are not sufficiently pliable to use as appliance cord.cables for industrial, commercial and apartment buildings may contain many insulated conductors in an overall jacket, with helical tape steel or aluminium armour, or steel wire armour, and perhaps as well an overall pvc or lead jacket for protection from moisture and physical damage. cables intended for very flexible service or in marine applications may be protected by woven bronze wires. power or communications cables (e.g., computer networking) that are routed in or through air-handling spaces (plenums) of office buildings are required under the model building code to be either encased in',\n",
       "   'doc_score': '1.1451531648635864'},\n",
       "  {'d_id': '1105937',\n",
       "   'd_title': 'Electrical wiring',\n",
       "   'd_timestamp': '2021-11-01 00:00:00',\n",
       "   'text': 'Electrical wiring carry depends on the installation conditions.the international standard wire sizes are given in the iec 60228 standard of the international electrotechnical commission. in north america, the american wire gauge standard for wire sizes is used.cables.modern wiring materials.modern non-metallic sheathed cables, such as (us and canadian) types nmb and nmc, consist of two to four wires covered with thermoplastic insulation, plus a wire for protective earthing/grounding (bonding), surrounded by a flexible plastic jacket. in north america and the uk this conductor is usually bare wire but in the uk it is required that this bare protective earth (pe) conductor be sheathed in green/yellow insulating tubing where the cable sheathing has been removed. most other jurisdictions now require the protective earth conductor to be insulated to the same standard as the current carrying conductors with green/yellow insulation.with some cables the individual conductors are wrapped in paper before the plastic jacket is applied.special versions of non-metallic sheathed cables, such as us type uf, are designed for direct underground burial (often with separate mechanical protection) or exterior use where exposure to ultraviolet radiation (uv) is a possibility. these cables differ in having a moisture-resistant construction, lacking paper or other absorbent fillers, and being formulated',\n",
       "   'doc_score': '1.681265950202942'},\n",
       "  {'d_id': '1480601',\n",
       "   'd_title': 'Power cable',\n",
       "   'd_timestamp': '2021-12-19 00:00:00',\n",
       "   'text': \"Power cable this cable would be called an armored riser cable. for shorter vertical transitions (perhaps 30-150 feet) an unarmored cable can be used in conjunction with basket (kellum) grips or even specially designed duct plugs.material specification for the cable's jacket will often consider resistance to water, oil, sunlight, underground conditions, chemical vapors, impact, fire, or high temperatures. in nuclear industry applications the cable may have special requirements for ionizing radiation resistance. cable materials for a transit application may be specified not to produce large amounts of smoke if burned (low smoke zero halogen). cables intended for direct burial must consider damage from backfill or dig-ins. hdpe or polypropylene jackets are common for this use. cables intended for subway (underground vaults) may consider oil, fire resistance, or low smoke as a priority. few cables these days still employ an overall lead sheath. however, some utilities may still install paper insulated lead covered cable in distribution circuits. transmission or submarine cables are more likely to use lead sheaths. however, lead is in decline and few manufacturers exist today to produce such items. when cables must run where exposed to mechanical damage (industrial sites), they may be protected with flexible steel tape or wire\",\n",
       "   'doc_score': '1.870330572128296'},\n",
       "  {'d_id': '1480601',\n",
       "   'd_title': 'Power cable',\n",
       "   'd_timestamp': '2021-12-19 00:00:00',\n",
       "   'text': 'Power cable service life.modern high-voltage cables use polyethylene or other polymers, including xlpe for insulation. they require special techniques for jointing and terminating, see high-voltage cable.flexibility of cables (stranding class).all electrical cables are somewhat flexible, allowing them to be shipped to installation sites wound on reels, drums or hand coils. flexibility is an important factor in determining the appropriate stranding class of the cable as it directly affects the minimum bending radius. power cables are generally stranding class a, b, or c. these classes allow for the cable to be trained into a final installed position where the cable will generally not be disturbed. class a, b, and c offer more durability, especially when pulling cable, and are generally cheaper. power utilities generally order class b stranded wire for primary and secondary voltage applications. at times, a solid conductor medium voltage cable can be used when flexibility is not a concern but low cost and water blocking are prioritized.applications requiring a cable to be moved repeatedly, such as for portable equipment, more flexible cables called \"cords\" or \"flex\" are used (stranding class g-m). flexible cords contain fine stranded conductors, rope lay or bunch stranded. they feature overall jackets with appropriate amounts of',\n",
       "   'doc_score': '1.8931115865707397'},\n",
       "  {'d_id': '15066',\n",
       "   'd_title': 'Insulator (electricity)',\n",
       "   'd_timestamp': '2021-12-04 00:00:00',\n",
       "   'text': 'Insulator (electricity) solid (e.g. plastic) coating may be impractical. however, wires that touch each other produce cross connections, short circuits, and fire hazards. in coaxial cable the center conductor must be supported precisely in the middle of the hollow shield to prevent em wave reflections. finally, wires that expose voltages higher than 60 v can cause human shock and electrocution hazards. insulating coatings help to prevent all of these problems.some wires have a mechanical covering with no voltage rating - e.g.: service-drop, welding, doorbell, thermostat wire. an insulated wire or cable has a voltage rating and a maximum conductor temperature rating. it may not have an ampacity (current-carrying capacity) rating, since this is dependent upon the surrounding environment (e.g. ambient temperature).in electronic systems, printed circuit boards are made from epoxy plastic and fibreglass. the nonconductive boards support layers of copper foil conductors. in electronic devices, the tiny and delicate active components are embedded within nonconductive epoxy or phenolic plastics, or within baked glass or ceramic coatings.in microelectronic components such as transistors and ics, the silicon material is normally a conductor because of doping, but it can easily be selectively transformed into a good insulator by the application of heat and oxygen. oxidised',\n",
       "   'doc_score': '1.8975366353988647'},\n",
       "  {'d_id': '1105937',\n",
       "   'd_title': 'Electrical wiring',\n",
       "   'd_timestamp': '2021-11-01 00:00:00',\n",
       "   'text': \"Electrical wiring the part with the lowest rating becomes the rating of the overall run.cables usually are secured with special fittings where they enter electrical apparatus; this may be a simple screw clamp for jacketed cables in a dry location, or a polymer-gasketed cable connector that mechanically engages the armour of an armoured cable and provides a water-resistant connection. special cable fittings may be applied to prevent explosive gases from flowing in the interior of jacketed cables, where the cable passes through areas where flammable gases are present. to prevent loosening of the connections of individual conductors of a cable, cables must be supported near their entrance to devices and at regular intervals along their runs. in tall buildings, special designs are required to support the conductors of vertical runs of cable. generally, only one cable per fitting is permitted, unless the fitting is rated or listed for multiple cables.special cable constructions and termination techniques are required for cables installed in ships. such assemblies are subjected to environmental and mechanical extremes. therefore, in addition to electrical and fire safety concerns, such cables may also be required to be pressure-resistant where they penetrate a vessel's bulkheads. they must also resist corrosion caused by\",\n",
       "   'doc_score': '1.9034342765808105'},\n",
       "  {'d_id': '11234274',\n",
       "   'd_title': 'Fiber-optic cable',\n",
       "   'd_timestamp': '2021-11-27 00:00:00',\n",
       "   'text': 'Fiber-optic cable \"breakout\" and \"distribution\". breakout cables normally contain a ripcord, two non-conductive dielectric strengthening members (normally a glass rod epoxy), an aramid yarn, and 3\\xa0mm buffer tubing with an additional layer of kevlar surrounding each fiber. the ripcord is a parallel cord of strong yarn that is situated under the jacket(s) of the cable for jacket removal. distribution cables have an overall kevlar wrapping, a ripcord, and a 900 micrometer buffer coating surrounding each fiber. these \"fiber units\" are commonly bundled with additional steel strength members, again with a helical twist to allow for stretching.a critical concern in outdoor cabling is to protect the fiber from damage by water. this is accomplished by use of solid barriers such as copper tubes, and water-repellent jelly or water-absorbing powder surrounding the fiber.finally, the cable may be armored to protect it from environmental hazards, such as construction work or gnawing animals. undersea cables are more heavily armored in their near-shore portions to protect them from boat anchors, fishing gear, and even sharks, which may be attracted to the electrical power that is carried to power amplifiers or repeaters in the cable.modern cables come in a wide variety of sheathings and armor, designed for applications',\n",
       "   'doc_score': '1.9398123025894165'},\n",
       "  {'d_id': '1105937',\n",
       "   'd_title': 'Electrical wiring',\n",
       "   'd_timestamp': '2021-11-01 00:00:00',\n",
       "   'text': 'Electrical wiring time a better method than open knob-and-tube wiring, although much more expensive.the first rubber-insulated cables for us building wiring were introduced in 1922 with over time, rubber-insulated cables become brittle because of exposure to atmospheric oxygen, so they must be handled with care and are usually replaced during renovations. when switches, socket outlets or light fixtures are replaced, the mere act of tightening connections may cause hardened insulation to flake off the conductors. rubber insulation further inside the cable often is in better condition than the insulation exposed at connections, due to reduced exposure to oxygen.the sulfur in vulcanized rubber insulation attacked bare copper wire so the conductors were tinned to prevent this. the conductors reverted to being bare when rubber ceased to be used.about 1950, pvc insulation and jackets were introduced, especially for residential wiring. about the same time, single conductors with a thinner pvc insulation and a thin nylon jacket (e.g. us type thn, thhn, etc.) became common.the simplest form of cable has two insulated conductors twisted together to form a unit. such non-jacketed cables with two (or more) conductors are used only for extra-low voltage signal and control applications such as doorbell wiring.other methods of securing wiring',\n",
       "   'doc_score': '1.9523216485977173'},\n",
       "  {'d_id': '13697217',\n",
       "   'd_title': 'Cable management',\n",
       "   'd_timestamp': '2021-10-12 00:00:00',\n",
       "   'text': 'Cable management means, running them through cable guides, and clipping or stapling them to walls are other common methods of keeping them organized. above drop ceilings, hooks or trays are used to organize cables and protect them from electrical interferenceplanning is especially crucial for cables such as thicknet that do not bend around corners easily and fiber optic which is very difficult to splice once cut.cable strain relief.cable strain relief is a mechanical protection for flexible electrical cables, wires, conduits and pneumatic hoses. it is regulated by the european standard en 62444 (formerly en 50262.).with a strain relief component, the connection between a flexible electrical line and its connection port is protected against mechanical stress. usually, the lines are fixed by clamping them into single cable clamps made of plastic or metal. another possibility is to use so called cord grips which consist of weaved wire strands that put a grip around the cables.a more cable-friendly alternative is attaching the lines to special strain relief plates using common cable ties. in case of industrial applications these strain relief plates are as well cost-effective because the packing density (meaning the possible number of lines to be fixed on one plate) is much higher',\n",
       "   'doc_score': '1.963599681854248'},\n",
       "  {'d_id': '1105937',\n",
       "   'd_title': 'Electrical wiring',\n",
       "   'd_timestamp': '2021-11-01 00:00:00',\n",
       "   'text': 'Electrical wiring metal conduit, or rated for low flame and smoke production.for some industrial uses in steel mills and similar hot environments, no organic material gives satisfactory service. cables insulated with compressed mica flakes are sometimes used. another form of high-temperature cable is a mineral insulated cable, with individual conductors placed within a copper tube and the space filled with magnesium oxide powder. the whole assembly is drawn down to smaller sizes, thereby compressing the powder. such cables have a certified fire resistance rating and are more costly than non-fire rated cable. they have little flexibility and behave more like rigid conduit rather than flexible cables.the environment of the installed wires determine how much current a cable is permitted to carry. because multiple conductors bundled in a cable cannot dissipate heat as easily as single insulated conductors, those circuits are always rated at a lower \"ampacity\". tables in electrical safety codes give the maximum allowable current based on size of conductor, voltage potential, insulation type and thickness, and the temperature rating of the cable itself. the allowable current will also be different for wet or dry locations, for hot (attic) or cool (underground) locations. in a run of cable through several areas,',\n",
       "   'doc_score': '1.9648194313049316'}])"
      ]
     },
     "execution_count": 17,
     "metadata": {},
     "output_type": "execute_result"
    }
   ],
   "source": [
    "j = 2\n",
    "temp[\"q_id\"][j], temp[\"q_title\"][j], temp[\"q_timestamp\"][j], temp[\"question\"][j], len(temp[\"positive_ctxs\"][j]), [_ for _ in temp[\"positive_ctxs\"][j]], [_ for _ in temp[\"weak_positive_ctxs\"][j]]"
   ]
  },
  {
   "cell_type": "code",
   "execution_count": null,
   "id": "572c031f-15bd-4679-ad1a-11ac769ddaf0",
   "metadata": {},
   "outputs": [],
   "source": []
  }
 ],
 "metadata": {
  "kernelspec": {
   "display_name": "nlp",
   "language": "python",
   "name": "nlp"
  },
  "language_info": {
   "codemirror_mode": {
    "name": "ipython",
    "version": 3
   },
   "file_extension": ".py",
   "mimetype": "text/x-python",
   "name": "python",
   "nbconvert_exporter": "python",
   "pygments_lexer": "ipython3",
   "version": "3.12.9"
  }
 },
 "nbformat": 4,
 "nbformat_minor": 5
}
